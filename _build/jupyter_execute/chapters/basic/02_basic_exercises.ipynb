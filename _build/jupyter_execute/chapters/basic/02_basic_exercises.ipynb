{
 "cells": [
  {
   "cell_type": "markdown",
   "metadata": {},
   "source": [
    "## Exercises: Part II\n",
    "\n",
    "Here we will use what we've learned to remove missing data from a list. As boring as this sounds, managing missing data is a very common issue in scientific computing. So, let's give it a try. \n",
    "\n",
    "In the example below, we have bunch of data that we want to add together but some is missing. Missing data points are flagged with the number -99, so if we include this data in our sum, the results will be incorrect. We want to remove these from our data set before we do our sum.\n",
    "\n",
    "We will be reading in a file called `missing_data.csv`. To read this in, we are going to cheat and use a **package** called **csv**. You can read it in without this package, but it is a bit cumbersome. In Module 2, we will learn more about importing packages."
   ]
  },
  {
   "cell_type": "code",
   "execution_count": 1,
   "metadata": {
    "execution": {
     "iopub.execute_input": "2020-08-28T16:33:46.448898Z",
     "iopub.status.busy": "2020-08-28T16:33:46.448059Z",
     "iopub.status.idle": "2020-08-28T16:33:46.455373Z",
     "shell.execute_reply": "2020-08-28T16:33:46.456116Z"
    }
   },
   "outputs": [
    {
     "name": "stdout",
     "output_type": "stream",
     "text": [
      "['-5', '-1', '4', '-3', '-4', '5', '-3', '-1', '-4', '-99', '2', '1', '4', '-5', '-1', '-1', '-1', '-2', '4', '-1', '-1', '-99', '-99', '4', '0', '-1', '0', '-4', '4', '0', '0', '-3', '4', '-2', '0', '-5', '1', '3', '-2', '5', '-2', '-4', '-3', '-99', '4', '-5', '5', '-1', '-2', '-1', '0', '5', '0', '1', '3', '2', '2', '-1', '4', '1', '1', '-5', '-99', '-4', '-99', '-2', '2', '-3', '0', '-2', '0', '-2', '3', '4', '-1', '3', '4', '1', '-4', '1', '2', '-5', '-99', '0', '-1', '5', '-5', '0', '3', '3', '-1', '3', '-1', '-1', '-1', '5', '3', '-99', '-3']\n"
     ]
    }
   ],
   "source": [
    "# import csv package\n",
    "import csv\n",
    "\n",
    "# read in data using csv\n",
    "with open('missing_data.csv') as f:\n",
    "    reader = csv.reader(f,delimiter=',')\n",
    "    sample = list(reader)[0]\n",
    "\n",
    "print(sample)"
   ]
  },
  {
   "cell_type": "markdown",
   "metadata": {},
   "source": [
    "You should be able to see the -99 values in the data above. \n",
    "\n",
    "Let's check what data structure `sample` is. Is it a list, a dictionary, a tuple?"
   ]
  },
  {
   "cell_type": "code",
   "execution_count": 2,
   "metadata": {
    "execution": {
     "iopub.execute_input": "2020-08-28T16:33:46.460692Z",
     "iopub.status.busy": "2020-08-28T16:33:46.459908Z",
     "iopub.status.idle": "2020-08-28T16:33:46.462609Z",
     "shell.execute_reply": "2020-08-28T16:33:46.463229Z"
    }
   },
   "outputs": [],
   "source": [
    "# check type of data structure using type()"
   ]
  },
  {
   "cell_type": "markdown",
   "metadata": {},
   "source": [
    "Now, let's check the type of data in `sample`. Use indexing and type() to do this."
   ]
  },
  {
   "cell_type": "code",
   "execution_count": 3,
   "metadata": {
    "execution": {
     "iopub.execute_input": "2020-08-28T16:33:46.467688Z",
     "iopub.status.busy": "2020-08-28T16:33:46.466640Z",
     "iopub.status.idle": "2020-08-28T16:33:46.468932Z",
     "shell.execute_reply": "2020-08-28T16:33:46.469785Z"
    }
   },
   "outputs": [],
   "source": [
    "# pick an element of sample and find the data type"
   ]
  },
  {
   "cell_type": "markdown",
   "metadata": {},
   "source": [
    "Now, let's try to remove the missing data and compute the sum using a `for` loop. We should have two new things at the end of our loop, a new list with no missing data and a sum that excludes the missing data."
   ]
  },
  {
   "cell_type": "code",
   "execution_count": 4,
   "metadata": {
    "execution": {
     "iopub.execute_input": "2020-08-28T16:33:46.474357Z",
     "iopub.status.busy": "2020-08-28T16:33:46.473614Z",
     "iopub.status.idle": "2020-08-28T16:33:46.475862Z",
     "shell.execute_reply": "2020-08-28T16:33:46.476562Z"
    }
   },
   "outputs": [],
   "source": [
    "# remove missing data and sum\n",
    "sample_sum = 0  # initialize sum\n",
    "new_sample = [] # initialize new list\n",
    "\n",
    "# loop over elements of sample (remove the number sign below to get started)\n",
    "#for s in sample:\n",
    "    "
   ]
  },
  {
   "cell_type": "markdown",
   "metadata": {},
   "source": [
    "Try it on your own before you click to reveal the answer below. Note that this is an answer - you may have written the code differently but got the correct output. This is fine."
   ]
  },
  {
   "cell_type": "code",
   "execution_count": 5,
   "metadata": {
    "execution": {
     "iopub.execute_input": "2020-08-28T16:33:46.482638Z",
     "iopub.status.busy": "2020-08-28T16:33:46.481731Z",
     "iopub.status.idle": "2020-08-28T16:33:46.484992Z",
     "shell.execute_reply": "2020-08-28T16:33:46.485530Z"
    },
    "tags": [
     "hide-input",
     "hide-output"
    ]
   },
   "outputs": [
    {
     "name": "stdout",
     "output_type": "stream",
     "text": [
      "1 [-5, -1, 4, -3, -4, 5, -3, -1, -4, 2, 1, 4, -5, -1, -1, -1, -2, 4, -1, -1, 4, 0, -1, 0, -4, 4, 0, 0, -3, 4, -2, 0, -5, 1, 3, -2, 5, -2, -4, -3, 4, -5, 5, -1, -2, -1, 0, 5, 0, 1, 3, 2, 2, -1, 4, 1, 1, -5, -4, -2, 2, -3, 0, -2, 0, -2, 3, 4, -1, 3, 4, 1, -4, 1, 2, -5, 0, -1, 5, -5, 0, 3, 3, -1, 3, -1, -1, -1, 5, 3, -3]\n"
     ]
    }
   ],
   "source": [
    "# remove missing data and sum\n",
    "sample_sum = 0\n",
    "new_sample = []\n",
    "\n",
    "# loop over elements of sample\n",
    "for s in sample:\n",
    "    s = int(s) # note we need to do a type conversion!\n",
    "    if s == -99:\n",
    "        sample_sum = sample_sum\n",
    "        new_sample = new_sample\n",
    "    else:\n",
    "        sample_sum += s\n",
    "        new_sample.append(s)\n",
    "\n",
    "print(sample_sum, new_sample)"
   ]
  },
  {
   "cell_type": "markdown",
   "metadata": {},
   "source": [
    "Now, let's try the same thing but write it as a function. Again, try it on your own before you click to reveal."
   ]
  },
  {
   "cell_type": "code",
   "execution_count": 6,
   "metadata": {
    "execution": {
     "iopub.execute_input": "2020-08-28T16:33:46.489816Z",
     "iopub.status.busy": "2020-08-28T16:33:46.488912Z",
     "iopub.status.idle": "2020-08-28T16:33:46.491370Z",
     "shell.execute_reply": "2020-08-28T16:33:46.491977Z"
    }
   },
   "outputs": [],
   "source": [
    "# function to remove missing data and compute the sum (remove the number sign below to get started)\n",
    "\n",
    "#def manage_missing_data(l):\n",
    "    "
   ]
  },
  {
   "cell_type": "code",
   "execution_count": 7,
   "metadata": {
    "execution": {
     "iopub.execute_input": "2020-08-28T16:33:46.498894Z",
     "iopub.status.busy": "2020-08-28T16:33:46.498066Z",
     "iopub.status.idle": "2020-08-28T16:33:46.501099Z",
     "shell.execute_reply": "2020-08-28T16:33:46.501725Z"
    },
    "tags": [
     "hide-input",
     "hide-output"
    ]
   },
   "outputs": [
    {
     "name": "stdout",
     "output_type": "stream",
     "text": [
      "(1, [-5, -1, 4, -3, -4, 5, -3, -1, -4, 2, 1, 4, -5, -1, -1, -1, -2, 4, -1, -1, 4, 0, -1, 0, -4, 4, 0, 0, -3, 4, -2, 0, -5, 1, 3, -2, 5, -2, -4, -3, 4, -5, 5, -1, -2, -1, 0, 5, 0, 1, 3, 2, 2, -1, 4, 1, 1, -5, -4, -2, 2, -3, 0, -2, 0, -2, 3, 4, -1, 3, 4, 1, -4, 1, 2, -5, 0, -1, 5, -5, 0, 3, 3, -1, 3, -1, -1, -1, 5, 3, -3])\n"
     ]
    }
   ],
   "source": [
    "# function to remove missing data and compute the sum \n",
    "def manage_missing_data(l):\n",
    "    sample_sum = 0\n",
    "    new_sample = []\n",
    "\n",
    "    # loop over elements of sample\n",
    "    for s in sample:\n",
    "        s = int(s)\n",
    "        if s == -99:\n",
    "            sample_sum = sample_sum\n",
    "            new_sample = new_sample\n",
    "        else:\n",
    "            sample_sum += s\n",
    "            new_sample.append(s)\n",
    "    return sample_sum, new_sample\n",
    "\n",
    "# call function\n",
    "print(manage_missing_data(sample))"
   ]
  },
  {
   "cell_type": "markdown",
   "metadata": {},
   "source": [
    "Finally, let's suppose that we want to keep both data sets, the one with missing values and the one without, and store them in a dictionary. How would you construct this dictionary?"
   ]
  },
  {
   "cell_type": "code",
   "execution_count": 8,
   "metadata": {
    "execution": {
     "iopub.execute_input": "2020-08-28T16:33:46.506945Z",
     "iopub.status.busy": "2020-08-28T16:33:46.506016Z",
     "iopub.status.idle": "2020-08-28T16:33:46.508890Z",
     "shell.execute_reply": "2020-08-28T16:33:46.509422Z"
    },
    "tags": [
     "hide-input",
     "hide-output"
    ]
   },
   "outputs": [
    {
     "name": "stdout",
     "output_type": "stream",
     "text": [
      "{'original': ['-5', '-1', '4', '-3', '-4', '5', '-3', '-1', '-4', '-99', '2', '1', '4', '-5', '-1', '-1', '-1', '-2', '4', '-1', '-1', '-99', '-99', '4', '0', '-1', '0', '-4', '4', '0', '0', '-3', '4', '-2', '0', '-5', '1', '3', '-2', '5', '-2', '-4', '-3', '-99', '4', '-5', '5', '-1', '-2', '-1', '0', '5', '0', '1', '3', '2', '2', '-1', '4', '1', '1', '-5', '-99', '-4', '-99', '-2', '2', '-3', '0', '-2', '0', '-2', '3', '4', '-1', '3', '4', '1', '-4', '1', '2', '-5', '-99', '0', '-1', '5', '-5', '0', '3', '3', '-1', '3', '-1', '-1', '-1', '5', '3', '-99', '-3'], 'no missing': [-5, -1, 4, -3, -4, 5, -3, -1, -4, 2, 1, 4, -5, -1, -1, -1, -2, 4, -1, -1, 4, 0, -1, 0, -4, 4, 0, 0, -3, 4, -2, 0, -5, 1, 3, -2, 5, -2, -4, -3, 4, -5, 5, -1, -2, -1, 0, 5, 0, 1, 3, 2, 2, -1, 4, 1, 1, -5, -4, -2, 2, -3, 0, -2, 0, -2, 3, 4, -1, 3, 4, 1, -4, 1, 2, -5, 0, -1, 5, -5, 0, 3, 3, -1, 3, -1, -1, -1, 5, 3, -3]}\n"
     ]
    }
   ],
   "source": [
    "# Dictionary of data\n",
    "all_data = {'original': sample, 'no missing': new_sample}\n",
    "print(all_data)"
   ]
  },
  {
   "cell_type": "markdown",
   "metadata": {},
   "source": [
    "If you want more practice, check out the following [link](https://www.practicepython.org/). You can also google \"python exercises beginner\" to find many more links (e.g. here's another [one](https://www.w3resource.com/python-exercises/))."
   ]
  },
  {
   "cell_type": "code",
   "execution_count": null,
   "metadata": {},
   "outputs": [],
   "source": []
  }
 ],
 "metadata": {
  "celltoolbar": "Tags",
  "kernelspec": {
   "display_name": "Python 3",
   "language": "python",
   "name": "python3"
  },
  "language_info": {
   "codemirror_mode": {
    "name": "ipython",
    "version": 3
   },
   "file_extension": ".py",
   "mimetype": "text/x-python",
   "name": "python",
   "nbconvert_exporter": "python",
   "pygments_lexer": "ipython3",
   "version": "3.6.8"
  }
 },
 "nbformat": 4,
 "nbformat_minor": 4
}