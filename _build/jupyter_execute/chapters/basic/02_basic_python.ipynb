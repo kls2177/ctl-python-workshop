{
 "cells": [
  {
   "cell_type": "markdown",
   "metadata": {},
   "source": [
    "# Module 1: Basic Python (Part II)"
   ]
  },
  {
   "cell_type": "markdown",
   "metadata": {},
   "source": [
    "## 5. Loops\n",
    "\n",
    "Loops are important in programming as they allow you to execute a block of code repeatedly. It is very common that you may need to use a piece of code over and over but you do not want to write the same line of code multiple times.\n",
    "\n",
    "There are two types of loops:\n",
    "\n",
    "* `while` loops\n",
    "* `for` loops\n",
    "\n",
    "### 5.1 While Loops\n",
    "While loops in Python follow the following format:\n",
    "```\n",
    "while expression:\n",
    "    command1\n",
    "    command2\n",
    "    ...\n",
    "```\n",
    "Commands will keep executing until `expression` become False equivalent. Again, note the syntax - the expression is followed by a colon and the commands are indented.\n",
    "\n",
    "Take a loop at the while loop below. What do you think the output will be? "
   ]
  },
  {
   "cell_type": "code",
   "execution_count": 1,
   "metadata": {
    "execution": {
     "iopub.execute_input": "2020-08-25T22:41:00.945458Z",
     "iopub.status.busy": "2020-08-25T22:41:00.944065Z",
     "iopub.status.idle": "2020-08-25T22:41:00.947868Z",
     "shell.execute_reply": "2020-08-25T22:41:00.948393Z"
    },
    "tags": [
     "hide-output"
    ]
   },
   "outputs": [
    {
     "name": "stdout",
     "output_type": "stream",
     "text": [
      "10000000000\n",
      "387420489\n",
      "16777216\n",
      "823543\n",
      "46656\n",
      "3125\n",
      "256\n",
      "27\n",
      "4\n",
      "1\n"
     ]
    }
   ],
   "source": [
    "# A simple while loop\n",
    "i = 10\n",
    "while i:\n",
    "    print(i**i)\n",
    "    i = i - 1"
   ]
  },
  {
   "cell_type": "markdown",
   "metadata": {},
   "source": [
    "Note that `i -= 1` is a shortcut for `i = i - 1`."
   ]
  },
  {
   "cell_type": "markdown",
   "metadata": {},
   "source": [
    "### 5.2 For Loops\n",
    "You can use for loops to loop through a `range`. Later you will see it can also loop through lists.\n",
    "```\n",
    "for value in range(int):\n",
    "    command1\n",
    "    command2\n",
    "    ...\n",
    "```\n",
    "This will loop and set `value` from 0 until `int - 1`"
   ]
  },
  {
   "cell_type": "code",
   "execution_count": 2,
   "metadata": {
    "execution": {
     "iopub.execute_input": "2020-08-25T22:41:00.953265Z",
     "iopub.status.busy": "2020-08-25T22:41:00.952286Z",
     "iopub.status.idle": "2020-08-25T22:41:00.957284Z",
     "shell.execute_reply": "2020-08-25T22:41:00.958412Z"
    }
   },
   "outputs": [
    {
     "name": "stdout",
     "output_type": "stream",
     "text": [
      "0\n",
      "1\n",
      "0\n",
      "1\n",
      "0\n",
      "1\n",
      "0\n",
      "1\n",
      "0\n",
      "1\n"
     ]
    }
   ],
   "source": [
    "for value in range(10):\n",
    "    print(value % 2)"
   ]
  },
  {
   "cell_type": "markdown",
   "metadata": {},
   "source": [
    "## 6. Lists\n",
    "You can store anything in a list, to create a list, use the following command:\n",
    "```python\n",
    "l = [] # l is now an empty list\n",
    "```\n",
    "You can also pre-populate the list:\n",
    "```python\n",
    "l = [1, 2, \"hello\"]\n",
    "```"
   ]
  },
  {
   "cell_type": "code",
   "execution_count": 3,
   "metadata": {
    "execution": {
     "iopub.execute_input": "2020-08-25T22:41:00.963770Z",
     "iopub.status.busy": "2020-08-25T22:41:00.962736Z",
     "iopub.status.idle": "2020-08-25T22:41:00.965970Z",
     "shell.execute_reply": "2020-08-25T22:41:00.966478Z"
    }
   },
   "outputs": [
    {
     "name": "stdout",
     "output_type": "stream",
     "text": [
      "[]\n",
      "[1, 2, 'hello']\n"
     ]
    }
   ],
   "source": [
    "l = []\n",
    "print(l)\n",
    "l = [1, 2, \"hello\"]\n",
    "print(l)"
   ]
  },
  {
   "cell_type": "markdown",
   "metadata": {},
   "source": [
    "### 6.1 List Operations\n",
    "There are many list operations you could do, following are just some basic examples."
   ]
  },
  {
   "cell_type": "code",
   "execution_count": 4,
   "metadata": {
    "execution": {
     "iopub.execute_input": "2020-08-25T22:41:00.972110Z",
     "iopub.status.busy": "2020-08-25T22:41:00.971244Z",
     "iopub.status.idle": "2020-08-25T22:41:00.974145Z",
     "shell.execute_reply": "2020-08-25T22:41:00.974741Z"
    },
    "tags": [
     "hide-output"
    ]
   },
   "outputs": [
    {
     "name": "stdout",
     "output_type": "stream",
     "text": [
      "[1, 3.4, 'test', 'hi']\n"
     ]
    }
   ],
   "source": [
    "# Append\n",
    "l = [1, 3.4, \"test\"]\n",
    "l.append(\"hi\")\n",
    "print(l)"
   ]
  },
  {
   "cell_type": "code",
   "execution_count": 5,
   "metadata": {
    "execution": {
     "iopub.execute_input": "2020-08-25T22:41:00.979506Z",
     "iopub.status.busy": "2020-08-25T22:41:00.978663Z",
     "iopub.status.idle": "2020-08-25T22:41:00.981794Z",
     "shell.execute_reply": "2020-08-25T22:41:00.982322Z"
    }
   },
   "outputs": [
    {
     "name": "stdout",
     "output_type": "stream",
     "text": [
      "hi\n",
      "[1, 3.4]\n"
     ]
    }
   ],
   "source": [
    "# Pop\n",
    "l = [1, 3.4, \"hi\"]\n",
    "print(l.pop())\n",
    "print(l)"
   ]
  },
  {
   "cell_type": "code",
   "execution_count": 6,
   "metadata": {
    "execution": {
     "iopub.execute_input": "2020-08-25T22:41:00.987276Z",
     "iopub.status.busy": "2020-08-25T22:41:00.986362Z",
     "iopub.status.idle": "2020-08-25T22:41:00.989355Z",
     "shell.execute_reply": "2020-08-25T22:41:00.989925Z"
    }
   },
   "outputs": [
    {
     "name": "stdout",
     "output_type": "stream",
     "text": [
      "3.4\n"
     ]
    }
   ],
   "source": [
    "# Access a value by index. Computer counts from 0!\n",
    "l = [1, 3.4, \"123\"]\n",
    "print(l[1])"
   ]
  },
  {
   "cell_type": "code",
   "execution_count": 7,
   "metadata": {
    "execution": {
     "iopub.execute_input": "2020-08-25T22:41:00.995169Z",
     "iopub.status.busy": "2020-08-25T22:41:00.994045Z",
     "iopub.status.idle": "2020-08-25T22:41:00.997140Z",
     "shell.execute_reply": "2020-08-25T22:41:00.997646Z"
    }
   },
   "outputs": [
    {
     "name": "stdout",
     "output_type": "stream",
     "text": [
      "[1, 2, 3, 4]\n"
     ]
    }
   ],
   "source": [
    "# Concatenate two lists\n",
    "a = [1,2]\n",
    "b = [3,4]\n",
    "print(a + b)"
   ]
  },
  {
   "cell_type": "markdown",
   "metadata": {},
   "source": [
    "### Extract Data From Lists\n",
    "Practice! These can be very confusing."
   ]
  },
  {
   "cell_type": "code",
   "execution_count": 8,
   "metadata": {
    "execution": {
     "iopub.execute_input": "2020-08-25T22:41:01.002381Z",
     "iopub.status.busy": "2020-08-25T22:41:01.001545Z",
     "iopub.status.idle": "2020-08-25T22:41:01.004607Z",
     "shell.execute_reply": "2020-08-25T22:41:01.005122Z"
    }
   },
   "outputs": [
    {
     "name": "stdout",
     "output_type": "stream",
     "text": [
      "[3, 4, 5, 6, 7]\n"
     ]
    }
   ],
   "source": [
    "# Elements after index (inclusive)\n",
    "l = [1,2,3,4,5,6,7]\n",
    "print(l[2:])"
   ]
  },
  {
   "cell_type": "code",
   "execution_count": 9,
   "metadata": {
    "execution": {
     "iopub.execute_input": "2020-08-25T22:41:01.010292Z",
     "iopub.status.busy": "2020-08-25T22:41:01.009396Z",
     "iopub.status.idle": "2020-08-25T22:41:01.013480Z",
     "shell.execute_reply": "2020-08-25T22:41:01.014082Z"
    }
   },
   "outputs": [
    {
     "name": "stdout",
     "output_type": "stream",
     "text": [
      "[1, 2, 3]\n"
     ]
    }
   ],
   "source": [
    "# Elements before index (exclusive)\n",
    "l = [1,2,3,4,5,6,7]\n",
    "print(l[:3])"
   ]
  },
  {
   "cell_type": "code",
   "execution_count": 10,
   "metadata": {
    "execution": {
     "iopub.execute_input": "2020-08-25T22:41:01.019087Z",
     "iopub.status.busy": "2020-08-25T22:41:01.018228Z",
     "iopub.status.idle": "2020-08-25T22:41:01.021180Z",
     "shell.execute_reply": "2020-08-25T22:41:01.021708Z"
    }
   },
   "outputs": [
    {
     "name": "stdout",
     "output_type": "stream",
     "text": [
      "7\n"
     ]
    }
   ],
   "source": [
    "# Negative index (access from end)\n",
    "l = [1,2,3,4,5,6,7]\n",
    "print(l[-1])"
   ]
  },
  {
   "cell_type": "code",
   "execution_count": 11,
   "metadata": {
    "execution": {
     "iopub.execute_input": "2020-08-25T22:41:01.027502Z",
     "iopub.status.busy": "2020-08-25T22:41:01.026067Z",
     "iopub.status.idle": "2020-08-25T22:41:01.029485Z",
     "shell.execute_reply": "2020-08-25T22:41:01.030000Z"
    }
   },
   "outputs": [
    {
     "name": "stdout",
     "output_type": "stream",
     "text": [
      "[3, 4, 5, 6]\n"
     ]
    }
   ],
   "source": [
    "# Elements between two indexes\n",
    "l = [1,2,3,4,5,6,7]\n",
    "print(l[2:6])"
   ]
  },
  {
   "cell_type": "markdown",
   "metadata": {},
   "source": [
    "### More List Operations\n",
    "* list.sort()\n",
    "* list.remove()\n",
    "* list.clear()\n",
    "* list.reverse()\n",
    "* ..."
   ]
  },
  {
   "cell_type": "markdown",
   "metadata": {},
   "source": [
    "### Loop Through a List\n",
    "You can use a for loop to loop through a list."
   ]
  },
  {
   "cell_type": "code",
   "execution_count": 12,
   "metadata": {
    "execution": {
     "iopub.execute_input": "2020-08-25T22:41:01.034674Z",
     "iopub.status.busy": "2020-08-25T22:41:01.033860Z",
     "iopub.status.idle": "2020-08-25T22:41:01.037017Z",
     "shell.execute_reply": "2020-08-25T22:41:01.037573Z"
    }
   },
   "outputs": [
    {
     "name": "stdout",
     "output_type": "stream",
     "text": [
      "1\n",
      "3\n",
      "6\n",
      "hi\n"
     ]
    }
   ],
   "source": [
    "l = [1,3,6,\"hi\"]\n",
    "for element in l:\n",
    "    print(element)"
   ]
  },
  {
   "cell_type": "markdown",
   "metadata": {},
   "source": [
    "## Tuples\n",
    "Tuples are like lists, but immutable. You will see what immutable means later."
   ]
  },
  {
   "cell_type": "code",
   "execution_count": 13,
   "metadata": {
    "execution": {
     "iopub.execute_input": "2020-08-25T22:41:01.042508Z",
     "iopub.status.busy": "2020-08-25T22:41:01.041601Z",
     "iopub.status.idle": "2020-08-25T22:41:01.044513Z",
     "shell.execute_reply": "2020-08-25T22:41:01.045042Z"
    }
   },
   "outputs": [
    {
     "name": "stdout",
     "output_type": "stream",
     "text": [
      "(1, 2, 3)\n"
     ]
    }
   ],
   "source": [
    "t = (1,2,3)\n",
    "print(t)"
   ]
  },
  {
   "cell_type": "code",
   "execution_count": 14,
   "metadata": {
    "execution": {
     "iopub.execute_input": "2020-08-25T22:41:01.050320Z",
     "iopub.status.busy": "2020-08-25T22:41:01.049168Z",
     "iopub.status.idle": "2020-08-25T22:41:01.052583Z",
     "shell.execute_reply": "2020-08-25T22:41:01.053130Z"
    }
   },
   "outputs": [
    {
     "name": "stdout",
     "output_type": "stream",
     "text": [
      "1\n",
      "2\n",
      "3\n"
     ]
    }
   ],
   "source": [
    "t = (1,2,3)\n",
    "for element in t:\n",
    "    print(element)"
   ]
  },
  {
   "cell_type": "markdown",
   "metadata": {},
   "source": [
    "## Dictionaries\n",
    "Instead of having an numeric index for each value, dictionaries allows you to map a custom key to each value.\n",
    "\n",
    "You can use almost anything as a key, it is quite flexible."
   ]
  },
  {
   "cell_type": "code",
   "execution_count": 15,
   "metadata": {
    "execution": {
     "iopub.execute_input": "2020-08-25T22:41:01.058276Z",
     "iopub.status.busy": "2020-08-25T22:41:01.057400Z",
     "iopub.status.idle": "2020-08-25T22:41:01.060356Z",
     "shell.execute_reply": "2020-08-25T22:41:01.061064Z"
    }
   },
   "outputs": [
    {
     "name": "stdout",
     "output_type": "stream",
     "text": [
      "{'name': 'Jun', 'age': 20, True: 'yes', 4: 5, False: (7, 8)}\n"
     ]
    }
   ],
   "source": [
    "d = {\n",
    "    'name': \"Jun\",\n",
    "    'age': 20,\n",
    "    True: 'yes',\n",
    "    4: 5,\n",
    "    False: (7,8)\n",
    "}\n",
    "print(d)"
   ]
  },
  {
   "cell_type": "markdown",
   "metadata": {},
   "source": [
    "### Dictionary Operations\n",
    "Below are some basic dictionary operations you could use."
   ]
  },
  {
   "cell_type": "code",
   "execution_count": 16,
   "metadata": {
    "execution": {
     "iopub.execute_input": "2020-08-25T22:41:01.067613Z",
     "iopub.status.busy": "2020-08-25T22:41:01.066218Z",
     "iopub.status.idle": "2020-08-25T22:41:01.070566Z",
     "shell.execute_reply": "2020-08-25T22:41:01.071272Z"
    }
   },
   "outputs": [
    {
     "name": "stdout",
     "output_type": "stream",
     "text": [
      "{'test': 123}\n"
     ]
    }
   ],
   "source": [
    "# Add value\n",
    "d = {}\n",
    "d['test'] = 123\n",
    "print(d)"
   ]
  },
  {
   "cell_type": "code",
   "execution_count": 17,
   "metadata": {
    "execution": {
     "iopub.execute_input": "2020-08-25T22:41:01.078778Z",
     "iopub.status.busy": "2020-08-25T22:41:01.077295Z",
     "iopub.status.idle": "2020-08-25T22:41:01.081972Z",
     "shell.execute_reply": "2020-08-25T22:41:01.082910Z"
    }
   },
   "outputs": [
    {
     "name": "stdout",
     "output_type": "stream",
     "text": [
      "123\n"
     ]
    }
   ],
   "source": [
    "# Access value\n",
    "d = {'test': 123}\n",
    "print(d['test'])"
   ]
  },
  {
   "cell_type": "markdown",
   "metadata": {},
   "source": [
    "## Loop Through Dictionaries\n",
    "You can loop through dictionaries using a for loop.\n",
    "\n",
    "**Dictionaries are unorderd.** Thus the output order cannot be gurenteed."
   ]
  },
  {
   "cell_type": "code",
   "execution_count": 18,
   "metadata": {
    "execution": {
     "iopub.execute_input": "2020-08-25T22:41:01.090923Z",
     "iopub.status.busy": "2020-08-25T22:41:01.089543Z",
     "iopub.status.idle": "2020-08-25T22:41:01.094266Z",
     "shell.execute_reply": "2020-08-25T22:41:01.095016Z"
    }
   },
   "outputs": [
    {
     "name": "stdout",
     "output_type": "stream",
     "text": [
      "name Jun\n",
      "age 20\n",
      "True yes\n",
      "4 5\n",
      "False (7, 8)\n"
     ]
    }
   ],
   "source": [
    "d = {\n",
    "    'name': \"Jun\",\n",
    "    'age': 20,\n",
    "    True: 'yes',\n",
    "    4: 5,\n",
    "    False: (7,8)\n",
    "}\n",
    "for key in d:\n",
    "    print(key, d[key])"
   ]
  },
  {
   "cell_type": "markdown",
   "metadata": {},
   "source": [
    "## Functions\n",
    "Functions allow you to break your program into pieces. They also enable the ability to reuse code.\n",
    "\n",
    "You define functions using following syntax:\n",
    "```\n",
    "def function_name(input_1, input_2):\n",
    "    command1\n",
    "    command2\n",
    "    â€¦\n",
    "    return value\n",
    "```\n",
    "\n",
    "Once a function returns, it will immediately exit."
   ]
  },
  {
   "cell_type": "code",
   "execution_count": 19,
   "metadata": {
    "execution": {
     "iopub.execute_input": "2020-08-25T22:41:01.103305Z",
     "iopub.status.busy": "2020-08-25T22:41:01.101884Z",
     "iopub.status.idle": "2020-08-25T22:41:01.106533Z",
     "shell.execute_reply": "2020-08-25T22:41:01.107457Z"
    }
   },
   "outputs": [
    {
     "name": "stdout",
     "output_type": "stream",
     "text": [
      "hi Jun\n"
     ]
    }
   ],
   "source": [
    "# Example #1\n",
    "def hi(name):\n",
    "    return \"hi \" + str(name)\n",
    "print(hi(\"Jun\"))"
   ]
  },
  {
   "cell_type": "code",
   "execution_count": 20,
   "metadata": {
    "execution": {
     "iopub.execute_input": "2020-08-25T22:41:01.114633Z",
     "iopub.status.busy": "2020-08-25T22:41:01.113208Z",
     "iopub.status.idle": "2020-08-25T22:41:01.117869Z",
     "shell.execute_reply": "2020-08-25T22:41:01.118815Z"
    }
   },
   "outputs": [
    {
     "name": "stdout",
     "output_type": "stream",
     "text": [
      "hi Jun\n"
     ]
    }
   ],
   "source": [
    "# Example #2, optional inputs\n",
    "def hi(name=\"Jun\"):\n",
    "    return \"hi \" + str(name)\n",
    "print(hi())"
   ]
  },
  {
   "cell_type": "code",
   "execution_count": 21,
   "metadata": {
    "execution": {
     "iopub.execute_input": "2020-08-25T22:41:01.127359Z",
     "iopub.status.busy": "2020-08-25T22:41:01.126004Z",
     "iopub.status.idle": "2020-08-25T22:41:01.130699Z",
     "shell.execute_reply": "2020-08-25T22:41:01.131794Z"
    }
   },
   "outputs": [
    {
     "name": "stdout",
     "output_type": "stream",
     "text": [
      "95\n"
     ]
    }
   ],
   "source": [
    "# Example #3, flexible number of inputs\n",
    "def get_sum(*input):\n",
    "    result = 0\n",
    "    for num in input:\n",
    "        result += num\n",
    "    return result\n",
    "print(get_sum(1,2,3,-1,90))"
   ]
  },
  {
   "cell_type": "markdown",
   "metadata": {},
   "source": [
    "## Mutable & Immutable Types\n",
    "* Mutable\n",
    "    * List, Dictionary\n",
    "* Immutable\n",
    "    * Integer, Float, String, Boolean, Tuple"
   ]
  },
  {
   "cell_type": "code",
   "execution_count": 22,
   "metadata": {
    "execution": {
     "iopub.execute_input": "2020-08-25T22:41:01.140405Z",
     "iopub.status.busy": "2020-08-25T22:41:01.139008Z",
     "iopub.status.idle": "2020-08-25T22:41:01.144282Z",
     "shell.execute_reply": "2020-08-25T22:41:01.145327Z"
    }
   },
   "outputs": [
    {
     "name": "stdout",
     "output_type": "stream",
     "text": [
      "['interesting', 2, 3]\n"
     ]
    }
   ],
   "source": [
    "# What will happen?\n",
    "def weird_function(l):\n",
    "    l[0] = 'interesting'\n",
    "l = [1,2,3]\n",
    "weird_function(l)\n",
    "print(l)"
   ]
  },
  {
   "cell_type": "markdown",
   "metadata": {},
   "source": [
    "As you can see, the function \"mutated\" the original list. However, if we change the list to a tuple...\n",
    "\n",
    "```{figure} tuple.png\n",
    "---\n",
    "height: 150px\n",
    "name: tuple\n",
    "---\n",
    "```\n",
    "\n",
    "The function won't be able to mutate it anymore."
   ]
  },
  {
   "cell_type": "code",
   "execution_count": null,
   "metadata": {},
   "outputs": [],
   "source": []
  }
 ],
 "metadata": {
  "celltoolbar": "Tags",
  "kernelspec": {
   "display_name": "Python 3",
   "language": "python",
   "name": "python3"
  },
  "language_info": {
   "codemirror_mode": {
    "name": "ipython",
    "version": 3
   },
   "file_extension": ".py",
   "mimetype": "text/x-python",
   "name": "python",
   "nbconvert_exporter": "python",
   "pygments_lexer": "ipython3",
   "version": "3.6.8"
  }
 },
 "nbformat": 4,
 "nbformat_minor": 4
}