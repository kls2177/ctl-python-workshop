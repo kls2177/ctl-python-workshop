{
 "cells": [
  {
   "cell_type": "markdown",
   "metadata": {},
   "source": [
    "# Part II: Loops, Data Structures and Functions\n",
    "\n",
    "In Part II, we will cover a few more programming basics (e.g. loops, functions, etc.) and learn about python-specific [data structures](https://docs.python.org/3/tutorial/datastructures.html). "
   ]
  },
  {
   "cell_type": "markdown",
   "metadata": {},
   "source": [
    "## 5. Loops\n",
    "\n",
    "Loops are important in programming as they allow you to execute a block of code repeatedly. It is very common that you may need to use a piece of code over and over but you do not want to write the same line of code multiple times.\n",
    "\n",
    "There are two types of loops:\n",
    "\n",
    "* `while` loops\n",
    "* `for` loops\n",
    "\n",
    "### 5.1 While Loops\n",
    "While loops in Python follow the following format:\n",
    "```\n",
    "while expression:\n",
    "    command1\n",
    "    command2\n",
    "    ...\n",
    "```\n",
    "Commands will keep executing until `expression` becomes False equivalent. Again, note the **syntax** - the expression is followed by a colon and the commands are indented.\n",
    "\n",
    "Take a look at the while loop below. What do you think the output will be? "
   ]
  },
  {
   "cell_type": "code",
   "execution_count": 1,
   "metadata": {
    "tags": [
     "hide-output"
    ]
   },
   "outputs": [
    {
     "name": "stdout",
     "output_type": "stream",
     "text": [
      "10000000000\n",
      "387420489\n",
      "16777216\n",
      "823543\n",
      "46656\n",
      "3125\n",
      "256\n",
      "27\n",
      "4\n",
      "1\n"
     ]
    }
   ],
   "source": [
    "# A simple while loop\n",
    "i = 10\n",
    "while i:\n",
    "    print(i**i)\n",
    "    i = i - 1"
   ]
  },
  {
   "cell_type": "markdown",
   "metadata": {},
   "source": [
    "Note that `i -= 1` is a shortcut for `i = i - 1`."
   ]
  },
  {
   "cell_type": "markdown",
   "metadata": {},
   "source": [
    "### 5.2 For Loops\n",
    "You can use `for` loops to loop through a `range` of values. Later you will see it can also loop through lists.\n",
    "```\n",
    "for value in range(int):\n",
    "    command1\n",
    "    command2\n",
    "    ...\n",
    "```\n",
    "\n",
    "Before we proceed, let's see how the `range()` function works (another built-in python function).\n",
    "\n",
    "`range(start, stop, step)` creates a range of integers from *start* up to but not including *stop*. *start* is optional and defaults to zero. *step* is also optional: the default is 1. \n",
    "\n",
    "This will loop and set `value` from 0 until `int - 1`."
   ]
  },
  {
   "cell_type": "code",
   "execution_count": 2,
   "metadata": {
    "tags": [
     "hide-output"
    ]
   },
   "outputs": [
    {
     "name": "stdout",
     "output_type": "stream",
     "text": [
      "0\n",
      "1\n",
      "2\n",
      "3\n",
      "4\n",
      "5\n",
      "6\n",
      "7\n",
      "8\n",
      "9\n"
     ]
    }
   ],
   "source": [
    "# A simple while loop (demonstration of range function)\n",
    "for value in range(10):\n",
    "    print(value)"
   ]
  },
  {
   "cell_type": "code",
   "execution_count": 3,
   "metadata": {
    "tags": [
     "hide-output"
    ]
   },
   "outputs": [
    {
     "name": "stdout",
     "output_type": "stream",
     "text": [
      "0\n",
      "1\n",
      "0\n",
      "1\n",
      "0\n",
      "1\n",
      "0\n",
      "1\n",
      "0\n",
      "1\n"
     ]
    }
   ],
   "source": [
    "# A simple while loop identifying even (0) and odd (1) numbers\n",
    "for value in range(10):\n",
    "    print(value % 2)"
   ]
  },
  {
   "cell_type": "markdown",
   "metadata": {},
   "source": [
    "## 6. Lists\n",
    "Now, for the fun stuff! We rarely want to just work with one number at a time. We often want to store more than one thing in the same data structure. You can store anything in a list. \n",
    "\n",
    "To create a list, use the following command:\n",
    "```python\n",
    "l = [] # l is now an empty list\n",
    "```\n",
    "You can also pre-populate the *elements* of the list:\n",
    "```python\n",
    "l = [1, 2, \"hello\"]\n",
    "```"
   ]
  },
  {
   "cell_type": "code",
   "execution_count": 4,
   "metadata": {
    "tags": [
     "hide-output"
    ]
   },
   "outputs": [
    {
     "name": "stdout",
     "output_type": "stream",
     "text": [
      "[]\n"
     ]
    }
   ],
   "source": [
    "# Create an empty list\n",
    "l = []\n",
    "print(l)"
   ]
  },
  {
   "cell_type": "code",
   "execution_count": 5,
   "metadata": {
    "tags": [
     "hide-output"
    ]
   },
   "outputs": [
    {
     "name": "stdout",
     "output_type": "stream",
     "text": [
      "[1, 2.3, 'hello']\n"
     ]
    }
   ],
   "source": [
    "# Create a list with different data types\n",
    "l = [1, 2.3, \"hello\"]\n",
    "print(l)"
   ]
  },
  {
   "cell_type": "markdown",
   "metadata": {},
   "source": [
    "### 6.1 List Operations\n",
    "There are many list operations you could do, following are just some basic examples."
   ]
  },
  {
   "cell_type": "code",
   "execution_count": 6,
   "metadata": {
    "tags": [
     "hide-output"
    ]
   },
   "outputs": [
    {
     "name": "stdout",
     "output_type": "stream",
     "text": [
      "[1, 3.4, 'test', 'hi']\n"
     ]
    }
   ],
   "source": [
    "# Append: add an element to a list\n",
    "l = [1, 3.4, \"test\"]\n",
    "l.append(\"hi\")\n",
    "print(l)"
   ]
  },
  {
   "cell_type": "code",
   "execution_count": 7,
   "metadata": {
    "tags": [
     "hide-output"
    ]
   },
   "outputs": [
    {
     "name": "stdout",
     "output_type": "stream",
     "text": [
      "hi\n",
      "[1, 3.4]\n"
     ]
    }
   ],
   "source": [
    "# Pop: remove an element from a list\n",
    "l = [1, 3.4, \"hi\"]\n",
    "print(l.pop())\n",
    "print(l)"
   ]
  },
  {
   "cell_type": "markdown",
   "metadata": {},
   "source": [
    "If we want to access an element of a list, we can use **indexing**. Indices start from zero in python. \n",
    "\n",
    "So, in the example below, if we are accessing element 1, what value are we going to get?"
   ]
  },
  {
   "cell_type": "code",
   "execution_count": 8,
   "metadata": {
    "tags": [
     "hide-output"
    ]
   },
   "outputs": [
    {
     "name": "stdout",
     "output_type": "stream",
     "text": [
      "3.4\n"
     ]
    }
   ],
   "source": [
    "# Access a value by index. Python counts from 0!\n",
    "l = [1, 3.4, \"123\"]\n",
    "print(l[1])"
   ]
  },
  {
   "cell_type": "code",
   "execution_count": 9,
   "metadata": {
    "tags": [
     "hide-output"
    ]
   },
   "outputs": [
    {
     "name": "stdout",
     "output_type": "stream",
     "text": [
      "[1, 2, 3, 4]\n"
     ]
    }
   ],
   "source": [
    "# Concatenate two lists with a + sign\n",
    "a = [1,2]\n",
    "b = [3,4]\n",
    "print(a + b)"
   ]
  },
  {
   "cell_type": "markdown",
   "metadata": {},
   "source": [
    "#### More List Operations\n",
    "* list.sort()\n",
    "* list.remove()\n",
    "* list.clear()\n",
    "* list.reverse()\n",
    "* ...\n",
    "\n",
    "Here are even [more](https://www.w3schools.com/python/python_lists.asp)!"
   ]
  },
  {
   "cell_type": "markdown",
   "metadata": {},
   "source": [
    "### 6.2 Extract Data From Lists\n",
    "[**Slicing**](https://railsware.com/blog/python-for-machine-learning-indexing-and-slicing-for-lists-tuples-strings-and-other-sequential-types/) is a term used for extracting a subset of elements from a list in python. These can be very confusing, so spend some time thinking about the slices before revealing the output and play around with these in your own jupyter notebook."
   ]
  },
  {
   "cell_type": "code",
   "execution_count": 10,
   "metadata": {
    "tags": [
     "hide-output"
    ]
   },
   "outputs": [
    {
     "name": "stdout",
     "output_type": "stream",
     "text": [
      "[3, 4, 5, 6, 7]\n"
     ]
    }
   ],
   "source": [
    "# Elements after index (inclusive): start from the second element and go to the end (:)\n",
    "l = [1,2,3,4,5,6,7]\n",
    "print(l[2:])"
   ]
  },
  {
   "cell_type": "code",
   "execution_count": 11,
   "metadata": {
    "tags": [
     "hide-output"
    ]
   },
   "outputs": [
    {
     "name": "stdout",
     "output_type": "stream",
     "text": [
      "[1, 2, 3]\n"
     ]
    }
   ],
   "source": [
    "# Elements before index (exclusive): start from the beginning and go to element 2 (up to but not including 3)\n",
    "l = [1,2,3,4,5,6,7]\n",
    "print(l[:3])"
   ]
  },
  {
   "cell_type": "code",
   "execution_count": 12,
   "metadata": {
    "tags": [
     "hide-output"
    ]
   },
   "outputs": [
    {
     "name": "stdout",
     "output_type": "stream",
     "text": [
      "7\n"
     ]
    }
   ],
   "source": [
    "# Negative index (access from end)\n",
    "l = [1,2,3,4,5,6,7]\n",
    "print(l[-1])"
   ]
  },
  {
   "cell_type": "code",
   "execution_count": 13,
   "metadata": {
    "tags": [
     "hide-output"
    ]
   },
   "outputs": [
    {
     "name": "stdout",
     "output_type": "stream",
     "text": [
      "[3, 4, 5, 6]\n"
     ]
    }
   ],
   "source": [
    "# Elements between two indexes: start at element 2 and go to element 5 (up to but not including 6)\n",
    "l = [1,2,3,4,5,6,7]\n",
    "print(l[2:6])"
   ]
  },
  {
   "cell_type": "markdown",
   "metadata": {},
   "source": [
    "### 6.3 Loop Through a List\n",
    "Now, let's use what we learned about loops to loop through a list. \n",
    "\n",
    "In the example below, what will be the output? Try it out on your own or click to reveal the output."
   ]
  },
  {
   "cell_type": "code",
   "execution_count": 14,
   "metadata": {
    "tags": [
     "hide-output"
    ]
   },
   "outputs": [
    {
     "name": "stdout",
     "output_type": "stream",
     "text": [
      "1\n",
      "3\n",
      "6\n",
      "hi\n"
     ]
    }
   ],
   "source": [
    "# Loop through a list\n",
    "l = [1,3,6,\"hi\"]\n",
    "for element in l:\n",
    "    print(element)"
   ]
  },
  {
   "cell_type": "markdown",
   "metadata": {},
   "source": [
    "An alternative way to loop through a list is to use indexing. Here we are using another built-in python function, `len()` to find the number of elements in a list. How many elements are in the list below?"
   ]
  },
  {
   "cell_type": "code",
   "execution_count": 15,
   "metadata": {
    "tags": [
     "hide-output"
    ]
   },
   "outputs": [
    {
     "name": "stdout",
     "output_type": "stream",
     "text": [
      "There are 4 elements in l\n"
     ]
    }
   ],
   "source": [
    "# demonstration of the len() function\n",
    "l = [1,3,6,\"hi\"]\n",
    "print(\"There are \" + str(len(l)) + \" elements in l\")"
   ]
  },
  {
   "cell_type": "code",
   "execution_count": 16,
   "metadata": {
    "tags": [
     "hide-output"
    ]
   },
   "outputs": [
    {
     "name": "stdout",
     "output_type": "stream",
     "text": [
      "1\n",
      "3\n",
      "6\n",
      "hi\n"
     ]
    }
   ],
   "source": [
    "# Loop through a list\n",
    "l = [1,3,6,\"hi\"]\n",
    "for i in range(len(l)):\n",
    "    print(l[i])"
   ]
  },
  {
   "cell_type": "markdown",
   "metadata": {},
   "source": [
    "## 7. Tuples\n",
    "Tuples are like lists, but immutable. We will take a closer look at what immutable means later.\n",
    "\n",
    "To create a tuple, use the following command:\n",
    "```python\n",
    "t = () # t is now an empty tuple\n",
    "```\n",
    "You can also pre-populate the *elements* of the tuple:\n",
    "```python\n",
    "t = (1, 2, 3)\n",
    "```"
   ]
  },
  {
   "cell_type": "code",
   "execution_count": 17,
   "metadata": {
    "tags": [
     "hide-output"
    ]
   },
   "outputs": [
    {
     "name": "stdout",
     "output_type": "stream",
     "text": [
      "()\n"
     ]
    }
   ],
   "source": [
    "# Create an empty tuple\n",
    "t = ()\n",
    "print(t)"
   ]
  },
  {
   "cell_type": "code",
   "execution_count": 18,
   "metadata": {
    "tags": [
     "hide-output"
    ]
   },
   "outputs": [
    {
     "name": "stdout",
     "output_type": "stream",
     "text": [
      "(1, 2, 3)\n"
     ]
    }
   ],
   "source": [
    "# Create a tuple\n",
    "t = (1,2,3)\n",
    "print(t)"
   ]
  },
  {
   "cell_type": "code",
   "execution_count": 19,
   "metadata": {
    "tags": [
     "hide-output"
    ]
   },
   "outputs": [
    {
     "name": "stdout",
     "output_type": "stream",
     "text": [
      "1\n",
      "2\n",
      "3\n"
     ]
    }
   ],
   "source": [
    "# loop over elements of t\n",
    "t = (1,2,3)\n",
    "for element in t:\n",
    "    print(element)"
   ]
  },
  {
   "cell_type": "markdown",
   "metadata": {},
   "source": [
    "## 8. Dictionaries\n",
    "Instead of having an numeric index for each value, dictionaries allow you to map a custom key to each value. You can think of dictionaries like spreadsheets, with the keys being the column names. You can use almost anything as a key, it is quite flexible.\n",
    "\n",
    "To create a dictionary, use the following command:\n",
    "```python\n",
    "d = {} # d is now an empty dictionary\n",
    "```\n",
    "You can also pre-populate the *keys* and *elements* of the dictionary:\n",
    "```python\n",
    "d = {'name': \"Jun\", 'age': 20}\n",
    "```\n",
    "where the keys are `name` and `age` and the elements are *Jun* and *20*."
   ]
  },
  {
   "cell_type": "code",
   "execution_count": 20,
   "metadata": {
    "tags": [
     "hide-output"
    ]
   },
   "outputs": [
    {
     "name": "stdout",
     "output_type": "stream",
     "text": [
      "{}\n"
     ]
    }
   ],
   "source": [
    "# Create an empty dictionary\n",
    "d = {}\n",
    "print(d)"
   ]
  },
  {
   "cell_type": "code",
   "execution_count": 21,
   "metadata": {
    "tags": [
     "hide-output"
    ]
   },
   "outputs": [
    {
     "name": "stdout",
     "output_type": "stream",
     "text": [
      "{'name': 'Jun', 'age': 20, True: 'yes', 4: 5, False: (7, 8)}\n"
     ]
    }
   ],
   "source": [
    "# Create a dictionary\n",
    "d = {\n",
    "    'name': \"Jun\",\n",
    "    'age': 20,\n",
    "    True: 'yes',\n",
    "    4: 5,\n",
    "    False: (7,8)\n",
    "}\n",
    "print(d)"
   ]
  },
  {
   "cell_type": "markdown",
   "metadata": {},
   "source": [
    "### 8.1 Dictionary Operations\n",
    "Below are some basic dictionary operations you could use.\n",
    "\n",
    "In the example below, which is the key and which is the element?"
   ]
  },
  {
   "cell_type": "code",
   "execution_count": 22,
   "metadata": {
    "tags": [
     "hide-output"
    ]
   },
   "outputs": [
    {
     "name": "stdout",
     "output_type": "stream",
     "text": [
      "{'test': 123}\n"
     ]
    }
   ],
   "source": [
    "# Add value to a key\n",
    "d = {}\n",
    "d['test'] = 123\n",
    "print(d)"
   ]
  },
  {
   "cell_type": "code",
   "execution_count": 23,
   "metadata": {
    "tags": [
     "hide-output"
    ]
   },
   "outputs": [
    {
     "name": "stdout",
     "output_type": "stream",
     "text": [
      "[123, 'hello']\n"
     ]
    }
   ],
   "source": [
    "# Access values for a key\n",
    "d = {'test': [123, \"hello\"]}\n",
    "print(d['test'])"
   ]
  },
  {
   "cell_type": "markdown",
   "metadata": {},
   "source": [
    "What if you want just one element for a specific key? Again, you can use indexing. In the example below, which element will be printed?"
   ]
  },
  {
   "cell_type": "code",
   "execution_count": 24,
   "metadata": {
    "tags": [
     "hide-output"
    ]
   },
   "outputs": [
    {
     "name": "stdout",
     "output_type": "stream",
     "text": [
      "hello\n"
     ]
    }
   ],
   "source": [
    "# Access values for a key\n",
    "d = {'test': [123, \"hello\"]}\n",
    "print(d['test'][1])"
   ]
  },
  {
   "cell_type": "markdown",
   "metadata": {},
   "source": [
    "### 8.2 Loop Through Dictionaries\n",
    "You can loop through dictionaries using a for loop.\n",
    "\n",
    "**Dictionaries are unorderd.** Thus the output order cannot be guaranteed."
   ]
  },
  {
   "cell_type": "code",
   "execution_count": 25,
   "metadata": {},
   "outputs": [
    {
     "name": "stdout",
     "output_type": "stream",
     "text": [
      "name"
     ]
    },
    {
     "name": "stdout",
     "output_type": "stream",
     "text": [
      " Jun\n",
      "age 20\n",
      "True yes\n",
      "4 5\n",
      "False (7, 8)\n"
     ]
    }
   ],
   "source": [
    "# loop through a dictionary\n",
    "d = {\n",
    "    'name': \"Jun\",\n",
    "    'age': 20,\n",
    "    True: 'yes',\n",
    "    4: 5,\n",
    "    False: (7,8)\n",
    "}\n",
    "for key in d:\n",
    "    print(key, d[key])"
   ]
  },
  {
   "cell_type": "markdown",
   "metadata": {},
   "source": [
    "## 9. Functions\n",
    "Functions allow you to break your program into pieces. They also enable the ability to reuse code, similar to loops. \n",
    "\n",
    "You define functions using following syntax:\n",
    "```\n",
    "def function_name(input_1, input_2):\n",
    "    command1\n",
    "    command2\n",
    "    return output\n",
    "```\n",
    "\n",
    "Once a function returns, it will immediately exit the function.\n",
    "\n",
    "The function is defined and then it needs to be called with actual input. Let's take a look."
   ]
  },
  {
   "cell_type": "code",
   "execution_count": 26,
   "metadata": {},
   "outputs": [],
   "source": [
    "# Define a simple function that has input, name \n",
    "def hi(name):\n",
    "    return \"hi \" + str(name)"
   ]
  },
  {
   "cell_type": "markdown",
   "metadata": {},
   "source": [
    "What will the output of the function be for the input below?"
   ]
  },
  {
   "cell_type": "code",
   "execution_count": 27,
   "metadata": {
    "tags": [
     "hide-output"
    ]
   },
   "outputs": [
    {
     "name": "stdout",
     "output_type": "stream",
     "text": [
      "hi Jun\n"
     ]
    }
   ],
   "source": [
    "# Call the function\n",
    "print(hi(\"Jun\"))"
   ]
  },
  {
   "cell_type": "markdown",
   "metadata": {},
   "source": [
    "Sometimes, we want to specify a default input so that the function will always work even if no input is provided. Here is an example."
   ]
  },
  {
   "cell_type": "code",
   "execution_count": 28,
   "metadata": {},
   "outputs": [
    {
     "name": "stdout",
     "output_type": "stream",
     "text": [
      "hi Jun"
     ]
    },
    {
     "name": "stdout",
     "output_type": "stream",
     "text": [
      "\n"
     ]
    }
   ],
   "source": [
    "# Slightly modified simple function: default input\n",
    "def hi(name=\"Jun\"):\n",
    "    return \"hi \" + str(name)\n",
    "\n",
    "# Call the function\n",
    "print(hi())"
   ]
  },
  {
   "cell_type": "markdown",
   "metadata": {},
   "source": [
    "Now, modify the above call and specify your own name as the input. What happens?\n",
    "\n",
    "For some functions, we may not know how many inputs there will be. In this case, we can allow for a flexible number of inputs. Try modifying the inputs and see what happens. "
   ]
  },
  {
   "cell_type": "code",
   "execution_count": 29,
   "metadata": {
    "tags": [
     "hide-output"
    ]
   },
   "outputs": [
    {
     "name": "stdout",
     "output_type": "stream",
     "text": [
      "95\n"
     ]
    }
   ],
   "source": [
    "# A function with flexible number of inputs (computes the sum of a set of numbers)\n",
    "def get_sum(*input):\n",
    "    result = 0 # initialize the variabile result\n",
    "    for num in input:\n",
    "        result += num # this is a short-cut for result = result + num\n",
    "    return result\n",
    "\n",
    "# Call function\n",
    "print(get_sum(1,2,3,-1,90))"
   ]
  },
  {
   "cell_type": "markdown",
   "metadata": {},
   "source": [
    "## 10. Mutable & Immutable Types\n",
    "\n",
    "As you can probably guess, a mutable object can be changed after it is created, and an immutable object can not.\n",
    "\n",
    "* Mutable\n",
    "    * List, Dictionary\n",
    "* Immutable\n",
    "    * Integer, Float, String, Boolean, Tuple\n",
    "    \n",
    "The best way to explore mutable and immutable types is with an example. Take a look at the function below. What will the output be for list, l?"
   ]
  },
  {
   "cell_type": "code",
   "execution_count": 30,
   "metadata": {
    "tags": [
     "hide-output"
    ]
   },
   "outputs": [
    {
     "name": "stdout",
     "output_type": "stream",
     "text": [
      "['interesting', 2, 3]\n"
     ]
    }
   ],
   "source": [
    "# What will happen?\n",
    "def weird_function(l):\n",
    "    l[0] = 'interesting'\n",
    "\n",
    "# Call function\n",
    "l = [1,2,3]\n",
    "weird_function(l)\n",
    "print(l)"
   ]
  },
  {
   "cell_type": "markdown",
   "metadata": {},
   "source": [
    "Now, let's try the same thing, but with a tuple (an immutable data structure). What happens?"
   ]
  },
  {
   "cell_type": "markdown",
   "metadata": {},
   "source": [
    "As you can see, the function \"mutated\" the original list. However, if we change the list to a tuple...\n",
    "\n",
    "```{figure} tuple.png\n",
    "---\n",
    "height: 150px\n",
    "name: tuple\n",
    "---\n",
    "```\n",
    "\n",
    "The function is not able to mutate the tuple - we get an error. "
   ]
  },
  {
   "cell_type": "markdown",
   "metadata": {},
   "source": [
    "Now, we will test what we've learned by cleaning up missing data in a list."
   ]
  },
  {
   "cell_type": "code",
   "execution_count": null,
   "metadata": {},
   "outputs": [],
   "source": []
  }
 ],
 "metadata": {
  "celltoolbar": "Tags",
  "kernelspec": {
   "display_name": "Python 3",
   "language": "python",
   "name": "python3"
  },
  "language_info": {
   "codemirror_mode": {
    "name": "ipython",
    "version": 3
   },
   "file_extension": ".py",
   "mimetype": "text/x-python",
   "name": "python",
   "nbconvert_exporter": "python",
   "pygments_lexer": "ipython3",
   "version": "3.7.2"
  }
 },
 "nbformat": 4,
 "nbformat_minor": 4
}