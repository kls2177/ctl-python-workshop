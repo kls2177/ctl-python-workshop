{
 "cells": [
  {
   "cell_type": "markdown",
   "metadata": {},
   "source": [
    "## Exercises: Part I\n",
    "\n",
    "Here are few questions to test your knowledge. Try the questions first without using python. Then, you can test whether or not you have the right answer by typing out the multiple choice options in your own jupyter notebook.\n",
    "\n",
    "```{admonition} Question 1\n",
    ":class: tip\n",
    "How do you print \"hi\" to screen in Python 3?\n",
    "\n",
    "* (a) print(hi)\n",
    "* (b) print \"hi\"\n",
    "* (c) print(\"hi\")\n",
    "* (d) print hi\n",
    "```"
   ]
  },
  {
   "cell_type": "code",
   "execution_count": 1,
   "metadata": {
    "execution": {
     "iopub.execute_input": "2020-08-31T23:36:58.997122Z",
     "iopub.status.busy": "2020-08-31T23:36:58.990679Z",
     "iopub.status.idle": "2020-08-31T23:36:59.001478Z",
     "shell.execute_reply": "2020-08-31T23:36:59.003658Z"
    },
    "tags": [
     "hide-input"
    ]
   },
   "outputs": [
    {
     "name": "stdout",
     "output_type": "stream",
     "text": [
      "hi\n"
     ]
    }
   ],
   "source": [
    "print(\"hi\")"
   ]
  },
  {
   "cell_type": "markdown",
   "metadata": {},
   "source": [
    "```{admonition} Question 2\n",
    ":class: tip\n",
    "Which one of the following expression will result in a \"division by zero\" error?\n",
    "\n",
    "* (a) 61 / ((-8 + 2) * 4) ** 2\n",
    "* (b) 61 // ((-8 + 2) * 4) ** 2\n",
    "* (c) 61 // (-8 + 2 * 4) ** 2\n",
    "* (d) 61 // ((-8 + 2) * 4) * 2\n",
    "```"
   ]
  },
  {
   "cell_type": "markdown",
   "metadata": {},
   "source": [
    "```{admonition} Question 3\n",
    ":class: tip\n",
    "What is the correct way to print \"my age is \" + age? Assume age is an integer.\n",
    "\n",
    "* (a) print(\"my age is\", age)\n",
    "* (b) print(\"my age is\" + age)\n",
    "* (c) print(\"my age is\" + str(age))\n",
    "* (d) print(\"my age is\" + age.toString())\n",
    "```"
   ]
  },
  {
   "cell_type": "code",
   "execution_count": 2,
   "metadata": {
    "execution": {
     "iopub.execute_input": "2020-08-31T23:36:59.012618Z",
     "iopub.status.busy": "2020-08-31T23:36:59.010051Z",
     "iopub.status.idle": "2020-08-31T23:36:59.015995Z",
     "shell.execute_reply": "2020-08-31T23:36:59.017192Z"
    },
    "tags": [
     "hide-input"
    ]
   },
   "outputs": [
    {
     "name": "stdout",
     "output_type": "stream",
     "text": [
      "my age is 40\n"
     ]
    }
   ],
   "source": [
    "age = 40\n",
    "print(\"my age is \" + str(age))"
   ]
  },
  {
   "cell_type": "markdown",
   "metadata": {},
   "source": [
    "```{admonition} Question 4\n",
    ":class: tip\n",
    "Is following expression True or False? Hint: break the question down into smaller parts.\n",
    "\n",
    "`(\"False\" and True) or (False or 0 or -1)`\n",
    "\n",
    "* (a) True\n",
    "* (b) False\n",
    "```"
   ]
  },
  {
   "cell_type": "code",
   "execution_count": 3,
   "metadata": {
    "execution": {
     "iopub.execute_input": "2020-08-31T23:36:59.035061Z",
     "iopub.status.busy": "2020-08-31T23:36:59.022116Z",
     "iopub.status.idle": "2020-08-31T23:36:59.041704Z",
     "shell.execute_reply": "2020-08-31T23:36:59.042738Z"
    },
    "tags": [
     "hide-output"
    ]
   },
   "outputs": [
    {
     "data": {
      "text/plain": [
       "True"
      ]
     },
     "execution_count": 3,
     "metadata": {},
     "output_type": "execute_result"
    }
   ],
   "source": [
    "(\"False\" and True) or (False or 0 or -1)"
   ]
  },
  {
   "cell_type": "markdown",
   "metadata": {},
   "source": [
    "```{admonition} Question 5 \n",
    ":class: tip \n",
    "What is the value of x after the execution of the code below completes?\n",
    "\n",
    "* (a) 5\n",
    "* (b) 4\n",
    "* (c) 3\n",
    "* (d) 2\n",
    "```"
   ]
  },
  {
   "cell_type": "code",
   "execution_count": 4,
   "metadata": {
    "execution": {
     "iopub.execute_input": "2020-08-31T23:36:59.049672Z",
     "iopub.status.busy": "2020-08-31T23:36:59.048553Z",
     "iopub.status.idle": "2020-08-31T23:36:59.053377Z",
     "shell.execute_reply": "2020-08-31T23:36:59.053892Z"
    },
    "tags": [
     "hide-output"
    ]
   },
   "outputs": [
    {
     "name": "stdout",
     "output_type": "stream",
     "text": [
      "2\n"
     ]
    }
   ],
   "source": [
    "x = 0\n",
    "a = 0\n",
    "b = -5\n",
    "if a > 0:\n",
    "    if b < 0: \n",
    "        x = x + 5 \n",
    "    elif a > 5:\n",
    "        x = x + 4\n",
    "    else:\n",
    "        x = x + 3\n",
    "else:\n",
    "    x = x + 2\n",
    "print(x)"
   ]
  },
  {
   "cell_type": "markdown",
   "metadata": {},
   "source": [
    "```{admonition} Question 6 \n",
    ":class: tip \n",
    "What is the value of x after the execution of the code below completes?\n",
    "\n",
    "* (a) 5\n",
    "* (b) 4\n",
    "* (c) 3\n",
    "* (d) 2\n",
    "```"
   ]
  },
  {
   "cell_type": "code",
   "execution_count": 5,
   "metadata": {
    "execution": {
     "iopub.execute_input": "2020-08-31T23:36:59.062870Z",
     "iopub.status.busy": "2020-08-31T23:36:59.057352Z",
     "iopub.status.idle": "2020-08-31T23:36:59.066318Z",
     "shell.execute_reply": "2020-08-31T23:36:59.067517Z"
    },
    "tags": [
     "hide-output"
    ]
   },
   "outputs": [
    {
     "name": "stdout",
     "output_type": "stream",
     "text": [
      "3\n"
     ]
    }
   ],
   "source": [
    "x = 0\n",
    "a = 5\n",
    "b = 5\n",
    "if a > 0:\n",
    "    if b < 0: \n",
    "        x = x + 5 \n",
    "    elif a > 5:\n",
    "        x = x + 4\n",
    "    else:\n",
    "        x = x + 3\n",
    "else:\n",
    "    x = x + 2\n",
    "print(x)"
   ]
  },
  {
   "cell_type": "code",
   "execution_count": null,
   "metadata": {},
   "outputs": [],
   "source": []
  }
 ],
 "metadata": {
  "celltoolbar": "Tags",
  "kernelspec": {
   "display_name": "Python 3",
   "language": "python",
   "name": "python3"
  },
  "language_info": {
   "codemirror_mode": {
    "name": "ipython",
    "version": 3
   },
   "file_extension": ".py",
   "mimetype": "text/x-python",
   "name": "python",
   "nbconvert_exporter": "python",
   "pygments_lexer": "ipython3",
   "version": "3.6.8"
  }
 },
 "nbformat": 4,
 "nbformat_minor": 4
}