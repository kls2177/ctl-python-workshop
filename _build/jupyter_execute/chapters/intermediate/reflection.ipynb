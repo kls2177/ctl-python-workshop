{
 "cells": [
  {
   "cell_type": "markdown",
   "metadata": {},
   "source": [
    "# Reflection\n",
    "\n",
    "I hope that this workshop has provided you with a useful overview of programming in Python. If you are interested in learning more, there are many, *many* online Python courses available and many are free (just google \"python course\").\n",
    "\n",
    "To receive a **GPS credit** for this workshop, you must complete the below reflection. Please reflect on how familiarizing yourself with Python may help you in your graduate research and/or future career. \n",
    "\n",
    "Click on the following [link](https://forms.gle/2SuiVBcxdYtCuA3X7) to complete this brief reflection.\n",
    "\n",
    "### Happy coding!"
   ]
  },
  {
   "cell_type": "code",
   "execution_count": null,
   "metadata": {},
   "outputs": [],
   "source": []
  }
 ],
 "metadata": {
  "kernelspec": {
   "display_name": "Python 3",
   "language": "python",
   "name": "python3"
  },
  "language_info": {
   "codemirror_mode": {
    "name": "ipython",
    "version": 3
   },
   "file_extension": ".py",
   "mimetype": "text/x-python",
   "name": "python",
   "nbconvert_exporter": "python",
   "pygments_lexer": "ipython3",
   "version": "3.8.3"
  }
 },
 "nbformat": 4,
 "nbformat_minor": 4
}