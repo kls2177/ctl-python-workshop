{
 "cells": [
  {
   "cell_type": "markdown",
   "metadata": {},
   "source": [
    "# Exercises: Part I\n",
    "\n",
    "Here are few questions to test your knowledge. Try the questions first without using python. Then, you can test whether or not you have the right answer by typing out the multiple choice options in your own jupyter notebook.\n",
    "\n",
    "```{admonition} Question 1\n",
    ":class: tip\n",
    "What is the correct way to import NumPy?\n",
    "\n",
    "* (a) import np from numpy\n",
    "* (b) from numpy import np\n",
    "* (c) import numpy as np\n",
    "* (d) import numpy as numpy\n",
    "```"
   ]
  },
  {
   "cell_type": "code",
   "execution_count": 1,
   "metadata": {
    "execution": {
     "iopub.execute_input": "2020-08-31T23:37:07.928967Z",
     "iopub.status.busy": "2020-08-31T23:37:07.928017Z",
     "iopub.status.idle": "2020-08-31T23:37:08.137612Z",
     "shell.execute_reply": "2020-08-31T23:37:08.138140Z"
    },
    "tags": [
     "hide-input"
    ]
   },
   "outputs": [],
   "source": [
    "import numpy as np"
   ]
  },
  {
   "cell_type": "markdown",
   "metadata": {},
   "source": [
    "```{admonition} Question 2\n",
    ":class: tip\n",
    "What is the shape of the array below?\n",
    "\n",
    "* (a) (2,3)\n",
    "* (b) (3,2)\n",
    "* (c) (3,2,1)\n",
    "* (d) (1,2,3)\n",
    "```"
   ]
  },
  {
   "cell_type": "code",
   "execution_count": 2,
   "metadata": {
    "execution": {
     "iopub.execute_input": "2020-08-31T23:37:08.143843Z",
     "iopub.status.busy": "2020-08-31T23:37:08.143044Z",
     "iopub.status.idle": "2020-08-31T23:37:08.146196Z",
     "shell.execute_reply": "2020-08-31T23:37:08.147993Z"
    },
    "tags": [
     "hide-output"
    ]
   },
   "outputs": [
    {
     "name": "stdout",
     "output_type": "stream",
     "text": [
      "(1, 2, 3)\n"
     ]
    }
   ],
   "source": [
    "a = np.array([[[1,2,3],[3,4,5]]])\n",
    "print(a.shape)"
   ]
  },
  {
   "cell_type": "markdown",
   "metadata": {},
   "source": [
    "```{admonition} Question 3\n",
    ":class: tip\n",
    "Which of the following operations is illegal in NumPy (For all options below, assume: a.shape = (4,3), b.shape = (3,), c.shape = (2,4), d is a scalar.)?\n",
    "\n",
    "* (a) b * d\n",
    "* (b) a * b\n",
    "* (c) b * c\n",
    "* (d) a * d\n",
    "* (e) a * c\n",
    "```"
   ]
  },
  {
   "cell_type": "code",
   "execution_count": 3,
   "metadata": {
    "execution": {
     "iopub.execute_input": "2020-08-31T23:37:08.155536Z",
     "iopub.status.busy": "2020-08-31T23:37:08.153967Z",
     "iopub.status.idle": "2020-08-31T23:37:08.157608Z",
     "shell.execute_reply": "2020-08-31T23:37:08.158118Z"
    },
    "tags": [
     "hide-input",
     "hide-output"
    ]
   },
   "outputs": [
    {
     "name": "stdout",
     "output_type": "stream",
     "text": [
      "(4, 3)\n",
      "(3,)\n",
      "(2, 4)\n"
     ]
    }
   ],
   "source": [
    "# let's create some hypothetical arrays\n",
    "a = np.array([[1,2,3],[2,3,4],[3,4,5],[4,5,6]])\n",
    "print(a.shape)\n",
    "b = np.array([1,2,3])\n",
    "print(b.shape)\n",
    "c = np.array([[3,4,5,6],[4,5,6,7]])\n",
    "print(c.shape)\n",
    "d = 10.0\n",
    "\n",
    "# Now try to perform the above operations and see what happens"
   ]
  },
  {
   "cell_type": "markdown",
   "metadata": {},
   "source": [
    "```{admonition} Question 4 \n",
    ":class: tip \n",
    "For the below array, what values will I get if I slice the array as follows: c[1,2:5]?\n",
    "\n",
    "(a) [2,3,4,5]\n",
    "(b) [13,14,15]\n",
    "(c) [3,4,5,6]\n",
    "(d) [12,13,14,15]\n",
    "(e) [12,13,14]\n",
    "```"
   ]
  },
  {
   "cell_type": "code",
   "execution_count": 4,
   "metadata": {
    "execution": {
     "iopub.execute_input": "2020-08-31T23:37:08.164475Z",
     "iopub.status.busy": "2020-08-31T23:37:08.163586Z",
     "iopub.status.idle": "2020-08-31T23:37:08.166503Z",
     "shell.execute_reply": "2020-08-31T23:37:08.167025Z"
    }
   },
   "outputs": [
    {
     "name": "stdout",
     "output_type": "stream",
     "text": [
      "[[ 1  2  3  4  5  6  7  8  9 10]\n",
      " [11 12 13 14 15 16 17 18 19 20]]\n"
     ]
    }
   ],
   "source": [
    "c = np.array([[1,2,3,4,5,6,7,8,9,10],[11,12,13,14,15,16,17,18,19,20]])\n",
    "print(c)"
   ]
  },
  {
   "cell_type": "code",
   "execution_count": 5,
   "metadata": {
    "execution": {
     "iopub.execute_input": "2020-08-31T23:37:08.172157Z",
     "iopub.status.busy": "2020-08-31T23:37:08.171226Z",
     "iopub.status.idle": "2020-08-31T23:37:08.174212Z",
     "shell.execute_reply": "2020-08-31T23:37:08.174728Z"
    },
    "tags": [
     "hide-output"
    ]
   },
   "outputs": [
    {
     "name": "stdout",
     "output_type": "stream",
     "text": [
      "[13 14 15]\n"
     ]
    }
   ],
   "source": [
    "# slice\n",
    "print(c[1,2:5])"
   ]
  },
  {
   "cell_type": "markdown",
   "metadata": {},
   "source": [
    "```{admonition} Question 5\n",
    ":class: tip \n",
    "How we can change the shape of the Numpy array in python? Hint: you will need to google this one.\n",
    "\n",
    "(a) np.shape()\n",
    "(b) np.reshape()\n",
    "(c) np.swapaxes()\n",
    "(d) np.ravel()\n",
    "(e) np.rollaxis()\n",
    "\n",
    "*Take a look at the example below to see how to change the shape of an array.\n",
    "``` \n"
   ]
  },
  {
   "cell_type": "code",
   "execution_count": 6,
   "metadata": {
    "execution": {
     "iopub.execute_input": "2020-08-31T23:37:08.181502Z",
     "iopub.status.busy": "2020-08-31T23:37:08.180578Z",
     "iopub.status.idle": "2020-08-31T23:37:08.185211Z",
     "shell.execute_reply": "2020-08-31T23:37:08.185810Z"
    },
    "tags": [
     "hide-input",
     "hide-output"
    ]
   },
   "outputs": [
    {
     "name": "stdout",
     "output_type": "stream",
     "text": [
      "(2, 10)\n",
      "(20,)\n",
      "[ 1  2  3  4  5  6  7  8  9 10 11 12 13 14 15 16 17 18 19 20]\n",
      "(4, 5)\n",
      "[[ 1  2  3  4  5]\n",
      " [ 6  7  8  9 10]\n",
      " [11 12 13 14 15]\n",
      " [16 17 18 19 20]]\n"
     ]
    }
   ],
   "source": [
    "# This is a bit of a trick question!\n",
    "# Options (b) - (e) all allow you to change the shape of an array to a certain extent.\n",
    "# np.reshape() has the most functionality. Let's take a look at an example. \n",
    "# The shapes that we can choose in np.reshape() have to give the right number of total elements\n",
    "\n",
    "print(c.shape)\n",
    "\n",
    "# We can change the shape of c as follows:\n",
    "d = np.reshape(c,[20,])\n",
    "print(d.shape)\n",
    "print(d)\n",
    "\n",
    "# or we can do the following\n",
    "f = np.reshape(c,[4,5])\n",
    "print(f.shape)\n",
    "print(f)"
   ]
  }
 ],
 "metadata": {
  "celltoolbar": "Tags",
  "kernelspec": {
   "display_name": "Python 3",
   "language": "python",
   "name": "python3"
  },
  "language_info": {
   "codemirror_mode": {
    "name": "ipython",
    "version": 3
   },
   "file_extension": ".py",
   "mimetype": "text/x-python",
   "name": "python",
   "nbconvert_exporter": "python",
   "pygments_lexer": "ipython3",
   "version": "3.6.8"
  }
 },
 "nbformat": 4,
 "nbformat_minor": 4
}