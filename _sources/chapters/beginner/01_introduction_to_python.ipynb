{
 "cells": [
  {
   "cell_type": "markdown",
   "metadata": {},
   "source": [
    "# Introduction to Python"
   ]
  },
  {
   "cell_type": "markdown",
   "metadata": {},
   "source": [
    "Let's start with a simple hello world program!"
   ]
  },
  {
   "cell_type": "code",
   "execution_count": 1,
   "metadata": {},
   "outputs": [
    {
     "name": "stdout",
     "output_type": "stream",
     "text": [
      "Hello World!\n"
     ]
    }
   ],
   "source": [
    "# Type your code below\n",
    "print(\"Hello World!\")"
   ]
  },
  {
   "cell_type": "markdown",
   "metadata": {},
   "source": [
    "## Operations\n",
    "Not just simple outputs, Python can also do **operations**.\n",
    "* `+` Addition\n",
    "* `-` Subtraction\n",
    "* `*` Multiplication\n",
    "* `/` Division\n",
    "* `%` Modulus\n",
    "* `**` Exponent"
   ]
  },
  {
   "cell_type": "code",
   "execution_count": 3,
   "metadata": {},
   "outputs": [
    {
     "data": {
      "text/plain": [
       "3"
      ]
     },
     "execution_count": 3,
     "metadata": {},
     "output_type": "execute_result"
    }
   ],
   "source": [
    "# Type your code below\n",
    "1+2"
   ]
  },
  {
   "cell_type": "code",
   "execution_count": 3,
   "metadata": {},
   "outputs": [
    {
     "data": {
      "text/plain": [
       "12.48"
      ]
     },
     "execution_count": 3,
     "metadata": {},
     "output_type": "execute_result"
    }
   ],
   "source": [
    "# Type your code below\n",
    "1.6*7.8"
   ]
  },
  {
   "cell_type": "markdown",
   "metadata": {},
   "source": [
    "However, this is not really useful for complex computations. We need to store the result somehow.\n",
    "\n",
    "Introducing **variables**.\n",
    "\n",
    "## Variables"
   ]
  },
  {
   "cell_type": "code",
   "execution_count": 4,
   "metadata": {},
   "outputs": [
    {
     "data": {
      "text/plain": [
       "32.480000000000004"
      ]
     },
     "execution_count": 4,
     "metadata": {},
     "output_type": "execute_result"
    }
   ],
   "source": [
    "# Type your code below\n",
    "a = 1.6*7.8\n",
    "c = a+20\n",
    "c"
   ]
  },
  {
   "cell_type": "markdown",
   "metadata": {},
   "source": [
    "Order of operations matter! Try executing `5 + 4 * 16`"
   ]
  },
  {
   "cell_type": "code",
   "execution_count": 2,
   "metadata": {},
   "outputs": [
    {
     "data": {
      "text/plain": [
       "69"
      ]
     },
     "execution_count": 2,
     "metadata": {},
     "output_type": "execute_result"
    }
   ],
   "source": [
    "# Type your code below\n",
    "5 + 4 * 16"
   ]
  },
  {
   "cell_type": "markdown",
   "metadata": {},
   "source": [
    "## Order of Operations\n",
    "* `()` Parentheses - Highest Precedence\n",
    "* `**` Exponentiation\n",
    "* `*` Multiplication\n",
    "* `/` Division\n",
    "* `%` Modulo\n",
    "* `+` Addition\n",
    "* `-` Subtraction"
   ]
  },
  {
   "cell_type": "markdown",
   "metadata": {},
   "source": [
    "## Basic Data Types\n",
    "* Integer (1,91,-1923)\n",
    "* Float (1.1, -109.1, 1.00)\n",
    "* String (â€œnameâ€, â€œhelloâ€, â€œ123â€)\n",
    "* Boolean (True, False)"
   ]
  },
  {
   "cell_type": "markdown",
   "metadata": {},
   "source": [
    "## Type Conversions\n",
    "What if I want to add 1 and \"2\"?"
   ]
  },
  {
   "cell_type": "markdown",
   "metadata": {},
   "source": [
    "```{figure} typeerror.png\n",
    "---\n",
    "height: 150px\n",
    "name: typeerror\n",
    "---\n",
    "```"
   ]
  },
  {
   "cell_type": "markdown",
   "metadata": {},
   "source": [
    "It will result in a `TypeError`. Some types are incompatible with each other, in this case you need to do type conversion."
   ]
  },
  {
   "cell_type": "code",
   "execution_count": 7,
   "metadata": {},
   "outputs": [
    {
     "data": {
      "text/plain": [
       "3"
      ]
     },
     "execution_count": 7,
     "metadata": {},
     "output_type": "execute_result"
    }
   ],
   "source": [
    "# Type your code below\n",
    "1 + int(\"2\")"
   ]
  },
  {
   "cell_type": "markdown",
   "metadata": {},
   "source": [
    "To check a value's type, use `type()` function."
   ]
  },
  {
   "cell_type": "code",
   "execution_count": 8,
   "metadata": {},
   "outputs": [
    {
     "data": {
      "text/plain": [
       "int"
      ]
     },
     "execution_count": 8,
     "metadata": {},
     "output_type": "execute_result"
    }
   ],
   "source": [
    "# Type your code below\n",
    "type(1)"
   ]
  },
  {
   "cell_type": "markdown",
   "metadata": {},
   "source": [
    "## Conditionals\n",
    "Conditionals in Python follow the follwing format:\n",
    "```\n",
    "if expression1:\n",
    "    command1\n",
    "elif expression2:\n",
    "    command2\n",
    "else:\n",
    "    command3\n",
    "```\n",
    "* `command1` will execute if `expression1` is True equivalent.\n",
    "* `command2` will execute if `expression1` is False equivalent, and `expression2` is True equivalent.\n",
    "* Otherwise `command3` will execute."
   ]
  },
  {
   "cell_type": "code",
   "execution_count": 12,
   "metadata": {},
   "outputs": [
    {
     "name": "stdout",
     "output_type": "stream",
     "text": [
      "Time to study!\n"
     ]
    }
   ],
   "source": [
    "# Type your code here\n",
    "have_homework = True\n",
    "if have_homework:\n",
    "    print(\"Time to study!\")\n",
    "else:\n",
    "    print(\"Time to play!\")"
   ]
  },
  {
   "cell_type": "markdown",
   "metadata": {},
   "source": [
    "### Comparators\n",
    "Comparators will always resolve to a boolean value.\n",
    "\n",
    "* `>` Greater than\n",
    "* `<` Less than\n",
    "* `>=` Greater or equal to\n",
    "* `<=` Less or equal to\n",
    "* `==` Equal\n",
    "* `!=` Not equal\n",
    "\n",
    "**IMPORTANT**: Equal comparator is double equal sign, not single."
   ]
  },
  {
   "cell_type": "markdown",
   "metadata": {},
   "source": [
    "### Logical Operators\n",
    "You can use logical operators to connect multiple expressions.\n",
    "* and\n",
    "* or\n",
    "* not"
   ]
  },
  {
   "cell_type": "code",
   "execution_count": 14,
   "metadata": {},
   "outputs": [
    {
     "name": "stdout",
     "output_type": "stream",
     "text": [
      "Time to play\n"
     ]
    }
   ],
   "source": [
    "# Type your code here\n",
    "have_homework = False\n",
    "hours_studied = 10\n",
    "if hours_studied > 4 and not have_homework:\n",
    "    print(\"Time to play\")"
   ]
  },
  {
   "cell_type": "markdown",
   "metadata": {},
   "source": [
    "### True / False Equivalent\n",
    "Expression does not have to be strictly `True` or `False` for Python conditionals to trigger.\n",
    "\n",
    "* True\n",
    "    * Boolean: True\n",
    "    * Integer: not 0\n",
    "    * String: not empty\n",
    "    \n",
    "* False\n",
    "    * Boolean: False\n",
    "    * Integer: 0\n",
    "    * String: `\"\"`"
   ]
  },
  {
   "cell_type": "code",
   "execution_count": 15,
   "metadata": {},
   "outputs": [
    {
     "name": "stdout",
     "output_type": "stream",
     "text": [
      "a is 10\n",
      "c,b,a are all True equivalents\n"
     ]
    }
   ],
   "source": [
    "# Type your code here\n",
    "a = 10\n",
    "b = 20\n",
    "c = 30\n",
    "if a == 10:\n",
    "    print(\"a is 10\")\n",
    "    \n",
    "if b < a:\n",
    "    print(\"b is less than a\")\n",
    "elif c and b and a:\n",
    "    print(\"c,b,a are all True equivalents\")\n",
    "else:\n",
    "    print(\"nothing happens\")"
   ]
  },
  {
   "cell_type": "markdown",
   "metadata": {},
   "source": [
    "You can also have nested blocks"
   ]
  },
  {
   "cell_type": "code",
   "execution_count": 16,
   "metadata": {},
   "outputs": [
    {
     "name": "stdout",
     "output_type": "stream",
     "text": [
      "a is 10\n",
      "c,b,a are all True equivalents\n",
      "c is also smaller than 40\n"
     ]
    }
   ],
   "source": [
    "# Type your code here\n",
    "a = 10\n",
    "b = 20\n",
    "c = 30\n",
    "if a == 10:\n",
    "    print(\"a is 10\")\n",
    "    \n",
    "if b < a:\n",
    "    print(\"b is less than a\")\n",
    "elif c and b and a:\n",
    "    print(\"c,b,a are all True equivalents\")\n",
    "    if c < 40:\n",
    "        print(\"c is also smaller than 40\")\n",
    "else:\n",
    "    print(\"nothing happens\")"
   ]
  },
  {
   "cell_type": "markdown",
   "metadata": {},
   "source": [
    "## Break\n",
    "\n",
    "And a little quiz :)\n",
    "\n",
    "https://goo.gl/forms/VoeETFMRQKWCNVYs1"
   ]
  },
  {
   "cell_type": "markdown",
   "metadata": {},
   "source": [
    "## While Loops\n",
    "While loops in Python follow the following format:\n",
    "```\n",
    "while expression:\n",
    "    command1\n",
    "    command2\n",
    "    ...\n",
    "```\n",
    "Commands will keep executing until `expression` become False equivalent."
   ]
  },
  {
   "cell_type": "code",
   "execution_count": 18,
   "metadata": {},
   "outputs": [
    {
     "name": "stdout",
     "output_type": "stream",
     "text": [
      "10000000000\n",
      "387420489\n",
      "16777216\n",
      "823543\n",
      "46656\n",
      "3125\n",
      "256\n",
      "27\n",
      "4\n",
      "1\n"
     ]
    }
   ],
   "source": [
    "i = 10\n",
    "while i:\n",
    "    print(i**i)\n",
    "    i -= 1"
   ]
  },
  {
   "cell_type": "markdown",
   "metadata": {},
   "source": [
    "`i -= 1` is just a shortcut for `i = i - 1`."
   ]
  },
  {
   "cell_type": "markdown",
   "metadata": {},
   "source": [
    "## For Loops\n",
    "You can use for loops to loop through a `range`. Later you will see it can also loop through lists.\n",
    "```\n",
    "for value in range(int):\n",
    "    command1\n",
    "    command2\n",
    "    ...\n",
    "```\n",
    "This will loop and set `value` from 0 until `int - 1`"
   ]
  },
  {
   "cell_type": "code",
   "execution_count": 20,
   "metadata": {},
   "outputs": [
    {
     "name": "stdout",
     "output_type": "stream",
     "text": [
      "0\n",
      "1\n",
      "0\n",
      "1\n",
      "0\n",
      "1\n",
      "0\n",
      "1\n",
      "0\n",
      "1\n"
     ]
    }
   ],
   "source": [
    "for value in range(10):\n",
    "    print(value % 2)"
   ]
  },
  {
   "cell_type": "markdown",
   "metadata": {},
   "source": [
    "## Lists\n",
    "You can store anything in a list, to create a list, use the following command:\n",
    "```python\n",
    "l = [] # l is now an empty list\n",
    "```\n",
    "You can also pre-populate the list:\n",
    "```python\n",
    "l = [1, 2, \"hello\"]\n",
    "```"
   ]
  },
  {
   "cell_type": "code",
   "execution_count": 21,
   "metadata": {},
   "outputs": [
    {
     "name": "stdout",
     "output_type": "stream",
     "text": [
      "[]\n",
      "[1, 2, 'hello']\n"
     ]
    }
   ],
   "source": [
    "l = []\n",
    "print(l)\n",
    "l = [1, 2, \"hello\"]\n",
    "print(l)"
   ]
  },
  {
   "cell_type": "markdown",
   "metadata": {},
   "source": [
    "### List Operations\n",
    "There are many list operations you could do, following are just some basic examples"
   ]
  },
  {
   "cell_type": "code",
   "execution_count": 22,
   "metadata": {},
   "outputs": [
    {
     "name": "stdout",
     "output_type": "stream",
     "text": [
      "[1, 3.4, 'test', 'hi']\n"
     ]
    }
   ],
   "source": [
    "# Append\n",
    "l = [1, 3.4, \"test\"]\n",
    "l.append(\"hi\")\n",
    "print(l)"
   ]
  },
  {
   "cell_type": "code",
   "execution_count": 23,
   "metadata": {},
   "outputs": [
    {
     "name": "stdout",
     "output_type": "stream",
     "text": [
      "hi\n",
      "[1, 3.4]\n"
     ]
    }
   ],
   "source": [
    "# Pop\n",
    "l = [1, 3.4, \"hi\"]\n",
    "print(l.pop())\n",
    "print(l)"
   ]
  },
  {
   "cell_type": "code",
   "execution_count": 24,
   "metadata": {},
   "outputs": [
    {
     "name": "stdout",
     "output_type": "stream",
     "text": [
      "3.4\n"
     ]
    }
   ],
   "source": [
    "# Access a value by index. Computer counts from 0!\n",
    "l = [1, 3.4, \"123\"]\n",
    "print(l[1])"
   ]
  },
  {
   "cell_type": "code",
   "execution_count": 25,
   "metadata": {},
   "outputs": [
    {
     "name": "stdout",
     "output_type": "stream",
     "text": [
      "[1, 2, 3, 4]\n"
     ]
    }
   ],
   "source": [
    "# Concatenate two lists\n",
    "a = [1,2]\n",
    "b = [3,4]\n",
    "print(a + b)"
   ]
  },
  {
   "cell_type": "markdown",
   "metadata": {},
   "source": [
    "### Extract Data From Lists\n",
    "Practice! These can be very confusing."
   ]
  },
  {
   "cell_type": "code",
   "execution_count": 27,
   "metadata": {},
   "outputs": [
    {
     "name": "stdout",
     "output_type": "stream",
     "text": [
      "[3, 4, 5, 6, 7]\n"
     ]
    }
   ],
   "source": [
    "# Elements after index (inclusive)\n",
    "l = [1,2,3,4,5,6,7]\n",
    "print(l[2:])"
   ]
  },
  {
   "cell_type": "code",
   "execution_count": 28,
   "metadata": {},
   "outputs": [
    {
     "name": "stdout",
     "output_type": "stream",
     "text": [
      "[1, 2, 3]\n"
     ]
    }
   ],
   "source": [
    "# Elements before index (exclusive)\n",
    "l = [1,2,3,4,5,6,7]\n",
    "print(l[:3])"
   ]
  },
  {
   "cell_type": "code",
   "execution_count": 29,
   "metadata": {},
   "outputs": [
    {
     "name": "stdout",
     "output_type": "stream",
     "text": [
      "7\n"
     ]
    }
   ],
   "source": [
    "# Negative index (access from end)\n",
    "l = [1,2,3,4,5,6,7]\n",
    "print(l[-1])"
   ]
  },
  {
   "cell_type": "code",
   "execution_count": 30,
   "metadata": {},
   "outputs": [
    {
     "name": "stdout",
     "output_type": "stream",
     "text": [
      "[3, 4, 5, 6]\n"
     ]
    }
   ],
   "source": [
    "# Elements between two indexes\n",
    "l = [1,2,3,4,5,6,7]\n",
    "print(l[2:6])"
   ]
  },
  {
   "cell_type": "markdown",
   "metadata": {},
   "source": [
    "### More List Operations\n",
    "* list.sort()\n",
    "* list.remove()\n",
    "* list.clear()\n",
    "* list.reverse()\n",
    "* ..."
   ]
  },
  {
   "cell_type": "code",
   "execution_count": null,
   "metadata": {},
   "outputs": [],
   "source": []
  },
  {
   "cell_type": "markdown",
   "metadata": {},
   "source": [
    "### Loop Through a List\n",
    "You can use a for loop to loop through a list."
   ]
  },
  {
   "cell_type": "code",
   "execution_count": 32,
   "metadata": {},
   "outputs": [
    {
     "name": "stdout",
     "output_type": "stream",
     "text": [
      "1\n",
      "3\n",
      "6\n",
      "hi\n"
     ]
    }
   ],
   "source": [
    "l = [1,3,6,\"hi\"]\n",
    "for element in l:\n",
    "    print(element)"
   ]
  },
  {
   "cell_type": "markdown",
   "metadata": {},
   "source": [
    "## Tuples\n",
    "Tuples are like lists, but immutable. You will see what immutable means later."
   ]
  },
  {
   "cell_type": "code",
   "execution_count": 33,
   "metadata": {},
   "outputs": [
    {
     "name": "stdout",
     "output_type": "stream",
     "text": [
      "(1, 2, 3)\n"
     ]
    }
   ],
   "source": [
    "t = (1,2,3)\n",
    "print(t)"
   ]
  },
  {
   "cell_type": "code",
   "execution_count": 34,
   "metadata": {},
   "outputs": [
    {
     "name": "stdout",
     "output_type": "stream",
     "text": [
      "1\n",
      "2\n",
      "3\n"
     ]
    }
   ],
   "source": [
    "t = (1,2,3)\n",
    "for element in t:\n",
    "    print(element)"
   ]
  },
  {
   "cell_type": "markdown",
   "metadata": {},
   "source": [
    "## Dictionaries\n",
    "Instead of having an numeric index for each value, dictionaries allows you to map a custom key to each value.\n",
    "\n",
    "You can use almost anything as a key, it is quite flexible."
   ]
  },
  {
   "cell_type": "code",
   "execution_count": 36,
   "metadata": {},
   "outputs": [
    {
     "name": "stdout",
     "output_type": "stream",
     "text": [
      "{'name': 'Jun', 'age': 20, True: 'yes', 4: 5, False: (7, 8)}\n"
     ]
    }
   ],
   "source": [
    "d = {\n",
    "    'name': \"Jun\",\n",
    "    'age': 20,\n",
    "    True: 'yes',\n",
    "    4: 5,\n",
    "    False: (7,8)\n",
    "}\n",
    "print(d)"
   ]
  },
  {
   "cell_type": "markdown",
   "metadata": {},
   "source": [
    "### Dictionary Operations\n",
    "Below are some basic dictionary operations you could use."
   ]
  },
  {
   "cell_type": "code",
   "execution_count": 37,
   "metadata": {},
   "outputs": [
    {
     "name": "stdout",
     "output_type": "stream",
     "text": [
      "{'test': 123}\n"
     ]
    }
   ],
   "source": [
    "# Add value\n",
    "d = {}\n",
    "d['test'] = 123\n",
    "print(d)"
   ]
  },
  {
   "cell_type": "code",
   "execution_count": 38,
   "metadata": {},
   "outputs": [
    {
     "name": "stdout",
     "output_type": "stream",
     "text": [
      "123\n"
     ]
    }
   ],
   "source": [
    "# Access value\n",
    "d = {'test': 123}\n",
    "print(d['test'])"
   ]
  },
  {
   "cell_type": "markdown",
   "metadata": {},
   "source": [
    "## Loop Through Dictionaries\n",
    "You can loop through dictionaries using a for loop.\n",
    "\n",
    "**Dictionaries are unorderd.** Thus the output order cannot be gurenteed."
   ]
  },
  {
   "cell_type": "code",
   "execution_count": 39,
   "metadata": {},
   "outputs": [
    {
     "name": "stdout",
     "output_type": "stream",
     "text": [
      "name Jun\n",
      "age 20\n",
      "True yes\n",
      "4 5\n",
      "False (7, 8)\n"
     ]
    }
   ],
   "source": [
    "d = {\n",
    "    'name': \"Jun\",\n",
    "    'age': 20,\n",
    "    True: 'yes',\n",
    "    4: 5,\n",
    "    False: (7,8)\n",
    "}\n",
    "for key in d:\n",
    "    print(key, d[key])"
   ]
  },
  {
   "cell_type": "markdown",
   "metadata": {},
   "source": [
    "## Functions\n",
    "Functions allow you to break your program into pieces. They also enable the ability to reuse code.\n",
    "\n",
    "You define functions using following syntax:\n",
    "```\n",
    "def function_name(input_1, input_2):\n",
    "    command1\n",
    "    command2\n",
    "    â€¦\n",
    "    return value\n",
    "```\n",
    "\n",
    "Once a function returns, it will immediately exit."
   ]
  },
  {
   "cell_type": "markdown",
   "metadata": {},
   "source": [
    "# Example #1\n",
    "def hi(name):\n",
    "    return \"hi \" + str(name)\n",
    "print(hi(\"Jun\"))"
   ]
  },
  {
   "cell_type": "code",
   "execution_count": 41,
   "metadata": {},
   "outputs": [
    {
     "name": "stdout",
     "output_type": "stream",
     "text": [
      "hi Jun\n"
     ]
    }
   ],
   "source": [
    "# Example #2, optional inputs\n",
    "def hi(name=\"Jun\"):\n",
    "    return \"hi \" + str(name)\n",
    "print(hi())"
   ]
  },
  {
   "cell_type": "code",
   "execution_count": 42,
   "metadata": {},
   "outputs": [
    {
     "name": "stdout",
     "output_type": "stream",
     "text": [
      "95\n"
     ]
    }
   ],
   "source": [
    "# Example #3, flexible number of inputs\n",
    "def get_sum(*input):\n",
    "    result = 0\n",
    "    for num in input:\n",
    "        result += num\n",
    "    return result\n",
    "print(get_sum(1,2,3,-1,90))"
   ]
  },
  {
   "cell_type": "markdown",
   "metadata": {},
   "source": [
    "## Mutable & Immutable Types\n",
    "* Mutable\n",
    "    * List, Dictionary\n",
    "* Immutable\n",
    "    * Integer, Float, String, Boolean, Tuple"
   ]
  },
  {
   "cell_type": "code",
   "execution_count": 43,
   "metadata": {},
   "outputs": [
    {
     "name": "stdout",
     "output_type": "stream",
     "text": [
      "['interesting', 2, 3]\n"
     ]
    }
   ],
   "source": [
    "# What will happen?\n",
    "def weird_function(l):\n",
    "    l[0] = 'interesting'\n",
    "l = [1,2,3]\n",
    "weird_function(l)\n",
    "print(l)"
   ]
  },
  {
   "cell_type": "markdown",
   "metadata": {},
   "source": [
    "As you can see, the function \"mutated\" the original list. However, if we change the list to a tuple..."
   ]
  },
  {
   "cell_type": "markdown",
   "metadata": {},
   "source": [
    "```{figure} tuple.png\n",
    "---\n",
    "height: 150px\n",
    "name: tuple\n",
    "---\n",
    "```"
   ]
  },
  {
   "cell_type": "markdown",
   "metadata": {},
   "source": [
    "The function won't be able to mutate it anymore."
   ]
  },
  {
   "cell_type": "markdown",
   "metadata": {},
   "source": [
    "## Exercises"
   ]
  },
  {
   "cell_type": "markdown",
   "metadata": {},
   "source": [
    "Write a function that takes in a list, and returns the largest number. You cannot use built-in max().\n",
    "\n",
    "You can assume input have at least 1 number."
   ]
  },
  {
   "cell_type": "code",
   "execution_count": 45,
   "metadata": {},
   "outputs": [
    {
     "data": {
      "text/plain": [
       "100"
      ]
     },
     "execution_count": 45,
     "metadata": {},
     "output_type": "execute_result"
    }
   ],
   "source": [
    "def get_max(nums):\n",
    "    current_max = nums[0]\n",
    "    for num in nums:\n",
    "        if num > current_max:\n",
    "            current_max = num\n",
    "    return current_max\n",
    "\n",
    "get_max([-1,99,10,100,-91])"
   ]
  },
  {
   "cell_type": "markdown",
   "metadata": {},
   "source": [
    "Write a function that takes in a list, returns a new reversed list. You **cannot** mutate the original list.\n",
    "\n",
    "`help(list)` might be useful."
   ]
  },
  {
   "cell_type": "code",
   "execution_count": 49,
   "metadata": {},
   "outputs": [
    {
     "name": "stdout",
     "output_type": "stream",
     "text": [
      "[3, 2, 1]\n",
      "[1, 2, 3]\n"
     ]
    }
   ],
   "source": [
    "def get_reversed(l):\n",
    "    new_l = l.copy()\n",
    "    new_l.reverse()\n",
    "    return new_l\n",
    "\n",
    "l = [1,2,3]\n",
    "print(get_reversed(l))\n",
    "print(l)"
   ]
  }
 ],
 "metadata": {
  "kernelspec": {
   "display_name": "Python 3",
   "language": "python",
   "name": "python3"
  },
  "language_info": {
   "codemirror_mode": {
    "name": "ipython",
    "version": 3
   },
   "file_extension": ".py",
   "mimetype": "text/x-python",
   "name": "python",
   "nbconvert_exporter": "python",
   "pygments_lexer": "ipython3",
   "version": "3.6.8"
  }
 },
 "nbformat": 4,
 "nbformat_minor": 2
}
