{
 "cells": [
  {
   "cell_type": "markdown",
   "metadata": {},
   "source": [
    "# Part I: NumPy"
   ]
  },
  {
   "cell_type": "markdown",
   "metadata": {},
   "source": [
    "## Review of Module 1\n",
    "\n",
    "Take a few minutes to review the content of Module 1. Module 2 builds on what was covered in Module 1.\n",
    "\n",
    "* To open a Python interpreter, type `python` in terminal.\n",
    "* You can also run Python code using jupyter notebooks.\n",
    "* Arithmetic operations:\n",
    "    * `+` Plus\n",
    "    * `-` Minus\n",
    "    * `*` Multiply\n",
    "    * `/` Divide\n",
    "    * `**` Power\n",
    "    * `//` Divide and floor\n",
    "    * `%` Mod\n",
    "* Conditionals\n",
    "    * `if(expression)`\n",
    "    * `elif`\n",
    "    * `else`\n",
    "* Loops\n",
    "    * `while(expression)`\n",
    "    * `for`\n",
    "* Some types are not compatible with each other.\n",
    "    * `1+ \"123\"` is invalid.\n",
    "* To declare a list\n",
    "    * `a = [1,2,3]`\n",
    "* To declare a dictionary\n",
    "    * `d = {\"name\": \"Student\"}`"
   ]
  },
  {
   "cell_type": "markdown",
   "metadata": {},
   "source": [
    "## 1. Why `NumPy`?\n",
    "\n",
    "Let's take a look at the example in the video. \n",
    "\n",
    "Imagine you want to multiply two lists, `[1,3,4]` and `[5,6,7]`, element by element. We can do this by looping over the elements of each list, multiplying them and then storing them in a new list."
   ]
  },
  {
   "cell_type": "code",
   "execution_count": 2,
   "metadata": {},
   "outputs": [
    {
     "name": "stdout",
     "output_type": "stream",
     "text": [
      "[4, 10, 18]\n"
     ]
    }
   ],
   "source": [
    "# multiplying two lists element-wise\n",
    "a = [1, 2, 3]\n",
    "b = [4, 5, 6]\n",
    "result = []\n",
    "for i in range(3):\n",
    "    result.append(a[i] * b[i])\n",
    "print(result)"
   ]
  },
  {
   "cell_type": "markdown",
   "metadata": {},
   "source": [
    "However, this is pretty cumbersome. `NumPy` allows us to do these types of element-wise operations with ease."
   ]
  },
  {
   "cell_type": "code",
   "execution_count": 3,
   "metadata": {},
   "outputs": [
    {
     "name": "stdout",
     "output_type": "stream",
     "text": [
      "[ 4 10 18]\n"
     ]
    }
   ],
   "source": [
    "# import NumPy\n",
    "import numpy as np # we import it \"as np\" just so that we don't have to type \"numpy\" all the time.\n",
    "\n",
    "# note `np.array()` converts a list to an array\n",
    "\n",
    "result = np.array(a) * np.array(b)\n",
    "print(result)"
   ]
  },
  {
   "cell_type": "markdown",
   "metadata": {},
   "source": [
    "`NumPy` also allows us to store multi-dimensional data in a new data structure called an *array* (see below). For example, in climate science (my field), we are often working with data that has three spatial dimensions (latitude, longitude and height) as well as the time dimension.  "
   ]
  },
  {
   "cell_type": "markdown",
   "metadata": {},
   "source": [
    "### 1.1. Importing NumPy\n",
    "\n",
    "To use `NumPy`, we first need to import it. "
   ]
  },
  {
   "cell_type": "code",
   "execution_count": 7,
   "metadata": {},
   "outputs": [],
   "source": [
    "# import NumPy\n",
    "import numpy as np"
   ]
  },
  {
   "cell_type": "markdown",
   "metadata": {},
   "source": [
    "> *Side note:* You can check the numpy version using `np.__version__`:"
   ]
  },
  {
   "cell_type": "code",
   "execution_count": 8,
   "metadata": {},
   "outputs": [
    {
     "data": {
      "text/plain": [
       "'1.18.5'"
      ]
     },
     "execution_count": 8,
     "metadata": {},
     "output_type": "execute_result"
    }
   ],
   "source": [
    "# what version are we using? \n",
    "np.__version__"
   ]
  },
  {
   "cell_type": "markdown",
   "metadata": {},
   "source": [
    "### 1.2 NDArray\n",
    "The fundamental data structure within `NumPy` is called an NDArray (ND = *N*-dimensional).\n",
    "\n",
    "One way to create a NDArray by converting a regular Python list."
   ]
  },
  {
   "cell_type": "code",
   "execution_count": 9,
   "metadata": {},
   "outputs": [
    {
     "name": "stdout",
     "output_type": "stream",
     "text": [
      "[9 7 0 1]\n"
     ]
    }
   ],
   "source": [
    "a = np.array([9,7,0,1])\n",
    "print(a)"
   ]
  },
  {
   "cell_type": "markdown",
   "metadata": {},
   "source": [
    "#### 1.2.1 Data Types"
   ]
  },
  {
   "cell_type": "markdown",
   "metadata": {},
   "source": [
    "`dtype` defines what type of data is contained within an array.\n",
    "> *All elements within a NDArray must be the **same type**, unlike Python lists.*\n",
    "\n",
    "> **Common data types within NumPy**\n",
    "  * `int32` - 32-bit integer, -2147483648 to 2147483647\n",
    "  * `int64` - 64-bit integer, -9223372036854775808 to 9223372036854775807\n",
    "  * `float32` - Single precision float\n",
    "  * `float64` - Double precision float\n",
    "  * `complex64` - Complex number represented by 2 32-bit floats\n",
    "  * `complex128` - Complex number represented by 2 64-bit floats"
   ]
  },
  {
   "cell_type": "markdown",
   "metadata": {},
   "source": [
    "To see what type of data is contained with in an array, use the following command."
   ]
  },
  {
   "cell_type": "code",
   "execution_count": 10,
   "metadata": {},
   "outputs": [
    {
     "data": {
      "text/plain": [
       "dtype('int64')"
      ]
     },
     "execution_count": 10,
     "metadata": {},
     "output_type": "execute_result"
    }
   ],
   "source": [
    "# data type in an array\n",
    "a.dtype"
   ]
  },
  {
   "cell_type": "markdown",
   "metadata": {},
   "source": [
    "#### 1.2.2 Shape"
   ]
  },
  {
   "cell_type": "markdown",
   "metadata": {},
   "source": [
    "Shape defines how many elements an array can contain within each dimension.\n",
    "\n",
    "To see the shape of an array, use the following command."
   ]
  },
  {
   "cell_type": "code",
   "execution_count": 11,
   "metadata": {},
   "outputs": [
    {
     "data": {
      "text/plain": [
       "(4,)"
      ]
     },
     "execution_count": 11,
     "metadata": {},
     "output_type": "execute_result"
    }
   ],
   "source": [
    "# 1 dimensional array with 4 elements\n",
    "a.shape"
   ]
  },
  {
   "cell_type": "markdown",
   "metadata": {},
   "source": [
    "So, we see that `a` has one dimension with 4 elements. Let's try buidling another array with multiple dimensions. What is the shape `b`?"
   ]
  },
  {
   "cell_type": "code",
   "execution_count": 12,
   "metadata": {
    "tags": [
     "hide-output"
    ]
   },
   "outputs": [
    {
     "name": "stdout",
     "output_type": "stream",
     "text": [
      "(2, 4)\n"
     ]
    }
   ],
   "source": [
    "# dimensional array\n",
    "b = np.array([[9,7,0,1], [6,3,2,0]])\n",
    "print(b.shape)"
   ]
  },
  {
   "cell_type": "markdown",
   "metadata": {},
   "source": [
    "In general, an $N$-dimensional array has the shape of\n",
    "\n",
    "> `shape = (x_N, x_{N-1}, x_{N-2}, …, x_1)`\n",
    "\n",
    "$N$ is the dimension count. $x_i$ is the element count at $i^{th}$ dimension.\n",
    "\n",
    "So, in the case of the above array, we start from the outer `[]` and work our way in. Within the first set of `[]`, we have 2 lists, so the number of elements in the Nth dimension is 2. Within the next set of `[]` we see that each list consists of 4 elements, so the number of elements in the $N$-1th dimension is 4. Thus, the shape is (2,4)."
   ]
  },
  {
   "cell_type": "markdown",
   "metadata": {},
   "source": [
    "### 1.3 Array Creation\n",
    "\n",
    "Above, we created an NDarray by converting lists to arrays using the `np.array()` function. But, `NumPy` also provides many helpful functions to let you quickly create arrays from scratch."
   ]
  },
  {
   "cell_type": "code",
   "execution_count": 13,
   "metadata": {
    "tags": [
     "hide-output"
    ]
   },
   "outputs": [
    {
     "name": "stdout",
     "output_type": "stream",
     "text": [
      "[[0. 0. 0.]\n",
      " [0. 0. 0.]\n",
      " [0. 0. 0.]]\n"
     ]
    }
   ],
   "source": [
    "# 3x3 array filled with zeros\n",
    "zeros = np.zeros((3,3)) \n",
    "print(zeros)"
   ]
  },
  {
   "cell_type": "markdown",
   "metadata": {},
   "source": [
    "Creating an array of zeros is useful of initializing an array that you will then populate. \n",
    "\n",
    "You can also specify the data type. In the example below, we are creating an array of zeros, but we want the data type to be complex."
   ]
  },
  {
   "cell_type": "code",
   "execution_count": 14,
   "metadata": {
    "tags": [
     "hide-output"
    ]
   },
   "outputs": [
    {
     "name": "stdout",
     "output_type": "stream",
     "text": [
      "[[0.+0.j 0.+0.j]\n",
      " [0.+0.j 0.+0.j]]\n"
     ]
    }
   ],
   "source": [
    "c_zeros = np.zeros((2,2), dtype=np.complex64) # 2x2 array with complex zeros\n",
    "print(c_zeros)"
   ]
  },
  {
   "cell_type": "markdown",
   "metadata": {},
   "source": [
    "We can also create an array of ones. This is useful if we need an array of a particular constant. You can simply multiply the entire array by the constant of interest. "
   ]
  },
  {
   "cell_type": "code",
   "execution_count": 15,
   "metadata": {
    "tags": [
     "hide-output"
    ]
   },
   "outputs": [
    {
     "name": "stdout",
     "output_type": "stream",
     "text": [
      "[[1. 1. 1. 1. 1.]\n",
      " [1. 1. 1. 1. 1.]\n",
      " [1. 1. 1. 1. 1.]\n",
      " [1. 1. 1. 1. 1.]]\n"
     ]
    }
   ],
   "source": [
    "# 4x5 array filled with ones\n",
    "ones = np.ones((4,5)) \n",
    "print(ones)"
   ]
  },
  {
   "cell_type": "code",
   "execution_count": 16,
   "metadata": {
    "tags": [
     "hide-output"
    ]
   },
   "outputs": [
    {
     "name": "stdout",
     "output_type": "stream",
     "text": [
      "[[2. 2. 2. 2. 2.]\n",
      " [2. 2. 2. 2. 2.]\n",
      " [2. 2. 2. 2. 2.]\n",
      " [2. 2. 2. 2. 2.]]\n"
     ]
    }
   ],
   "source": [
    "# 4x5 array filled with twos\n",
    "twos = 2 * np.ones((4,5)) \n",
    "print(twos)"
   ]
  },
  {
   "cell_type": "markdown",
   "metadata": {},
   "source": [
    "An alternative way to fill an array with a constant is to use `np.full()`."
   ]
  },
  {
   "cell_type": "code",
   "execution_count": 18,
   "metadata": {
    "tags": [
     "hide-output"
    ]
   },
   "outputs": [
    {
     "name": "stdout",
     "output_type": "stream",
     "text": [
      "[[[2.71828183 2.71828183 2.71828183]\n",
      "  [2.71828183 2.71828183 2.71828183]\n",
      "  [2.71828183 2.71828183 2.71828183]\n",
      "  [2.71828183 2.71828183 2.71828183]\n",
      "  [2.71828183 2.71828183 2.71828183]\n",
      "  [2.71828183 2.71828183 2.71828183]\n",
      "  [2.71828183 2.71828183 2.71828183]]\n",
      "\n",
      " [[2.71828183 2.71828183 2.71828183]\n",
      "  [2.71828183 2.71828183 2.71828183]\n",
      "  [2.71828183 2.71828183 2.71828183]\n",
      "  [2.71828183 2.71828183 2.71828183]\n",
      "  [2.71828183 2.71828183 2.71828183]\n",
      "  [2.71828183 2.71828183 2.71828183]\n",
      "  [2.71828183 2.71828183 2.71828183]]]\n"
     ]
    }
   ],
   "source": [
    "# 2x7x3 array filled with e (use the np.e function to call the value for e)\n",
    "e = np.full((2,7,3), np.e)\n",
    "print(e)"
   ]
  },
  {
   "cell_type": "markdown",
   "metadata": {},
   "source": [
    "You can also use the [`np.arange()`](https://numpy.org/doc/stable/reference/generated/numpy.arange.html) function to create a 1-D array of consecutive numbers. `np.arange()` is similar to the `range()` function we discussed in Module 1.\n",
    "\n",
    "In the example below, what will the array look like?"
   ]
  },
  {
   "cell_type": "code",
   "execution_count": 28,
   "metadata": {
    "tags": [
     "hide-output"
    ]
   },
   "outputs": [
    {
     "name": "stdout",
     "output_type": "stream",
     "text": [
      "[5 6 7 8]\n"
     ]
    }
   ],
   "source": [
    "# array using np.arange\n",
    "r = np.arange(5, 9)\n",
    "print(r)"
   ]
  },
  {
   "cell_type": "markdown",
   "metadata": {},
   "source": [
    "You can also specify the spacing between values within the range using the additional `step` argument:"
   ]
  },
  {
   "cell_type": "code",
   "execution_count": 20,
   "metadata": {},
   "outputs": [
    {
     "name": "stdout",
     "output_type": "stream",
     "text": [
      "Help on built-in function arange in module numpy:\n",
      "\n",
      "arange(...)\n",
      "    arange([start,] stop[, step,], dtype=None)\n",
      "    \n",
      "    Return evenly spaced values within a given interval.\n",
      "    \n",
      "    Values are generated within the half-open interval ``[start, stop)``\n",
      "    (in other words, the interval including `start` but excluding `stop`).\n",
      "    For integer arguments the function is equivalent to the Python built-in\n",
      "    `range` function, but returns an ndarray rather than a list.\n",
      "    \n",
      "    When using a non-integer step, such as 0.1, the results will often not\n",
      "    be consistent.  It is better to use `numpy.linspace` for these cases.\n",
      "    \n",
      "    Parameters\n",
      "    ----------\n",
      "    start : number, optional\n",
      "        Start of interval.  The interval includes this value.  The default\n",
      "        start value is 0.\n",
      "    stop : number\n",
      "        End of interval.  The interval does not include this value, except\n",
      "        in some cases where `step` is not an integer and floating point\n",
      "        round-off affects the length of `out`.\n",
      "    step : number, optional\n",
      "        Spacing between values.  For any output `out`, this is the distance\n",
      "        between two adjacent values, ``out[i+1] - out[i]``.  The default\n",
      "        step size is 1.  If `step` is specified as a position argument,\n",
      "        `start` must also be given.\n",
      "    dtype : dtype\n",
      "        The type of the output array.  If `dtype` is not given, infer the data\n",
      "        type from the other input arguments.\n",
      "    \n",
      "    Returns\n",
      "    -------\n",
      "    arange : ndarray\n",
      "        Array of evenly spaced values.\n",
      "    \n",
      "        For floating point arguments, the length of the result is\n",
      "        ``ceil((stop - start)/step)``.  Because of floating point overflow,\n",
      "        this rule may result in the last element of `out` being greater\n",
      "        than `stop`.\n",
      "    \n",
      "    See Also\n",
      "    --------\n",
      "    numpy.linspace : Evenly spaced numbers with careful handling of endpoints.\n",
      "    numpy.ogrid: Arrays of evenly spaced numbers in N-dimensions.\n",
      "    numpy.mgrid: Grid-shaped arrays of evenly spaced numbers in N-dimensions.\n",
      "    \n",
      "    Examples\n",
      "    --------\n",
      "    >>> np.arange(3)\n",
      "    array([0, 1, 2])\n",
      "    >>> np.arange(3.0)\n",
      "    array([ 0.,  1.,  2.])\n",
      "    >>> np.arange(3,7)\n",
      "    array([3, 4, 5, 6])\n",
      "    >>> np.arange(3,7,2)\n",
      "    array([3, 5])\n",
      "\n"
     ]
    }
   ],
   "source": [
    "help(np.arange)"
   ]
  },
  {
   "cell_type": "code",
   "execution_count": 21,
   "metadata": {},
   "outputs": [
    {
     "name": "stdout",
     "output_type": "stream",
     "text": [
      "[5 7]\n"
     ]
    }
   ],
   "source": [
    "# array using np.arange with a step\n",
    "r = np.arange(5, 9, 2)\n",
    "print(r)"
   ]
  },
  {
   "cell_type": "markdown",
   "metadata": {},
   "source": [
    "`np.linspace()` is similar to `np.arange()` except that the `stop` value is included and rather than specify the `step` you specify the number of elements you want. These elements will be linearly spaced.\n",
    "\n",
    "So, in the example below, what value will the array start with? Stop with? How many values will there be?"
   ]
  },
  {
   "cell_type": "code",
   "execution_count": 25,
   "metadata": {
    "tags": [
     "hide-output"
    ]
   },
   "outputs": [
    {
     "name": "stdout",
     "output_type": "stream",
     "text": [
      "[ 0.  2.  4.  6.  8. 10. 12. 14. 16. 18.]\n"
     ]
    }
   ],
   "source": [
    "# Linearly spaced array\n",
    "lin = np.linspace(0, 18, 10, dtype=np.float)\n",
    "print(lin)"
   ]
  },
  {
   "cell_type": "markdown",
   "metadata": {},
   "source": [
    "Now, change the above so that the `stop` value is 19. What happens? Keep `stop` at 19 and change the number of elements to 20. What happens?\n",
    "\n",
    "`np.logspace()` is similar to `np.linspace()` except that the number will be spaced logarithmically."
   ]
  },
  {
   "cell_type": "code",
   "execution_count": 57,
   "metadata": {
    "tags": [
     "hide-output"
    ]
   },
   "outputs": [
    {
     "name": "stdout",
     "output_type": "stream",
     "text": [
      "[1.e+00 1.e+02 1.e+04 1.e+06 1.e+08 1.e+10 1.e+12 1.e+14 1.e+16 1.e+18]\n"
     ]
    }
   ],
   "source": [
    "# Log spaced array\n",
    "log = np.logspace(0, 18, 10, base = 10) \n",
    "print(log)"
   ]
  },
  {
   "cell_type": "code",
   "execution_count": 58,
   "metadata": {},
   "outputs": [
    {
     "name": "stdout",
     "output_type": "stream",
     "text": [
      "[1.00000000e+00 7.38905610e+00 5.45981500e+01 4.03428793e+02\n",
      " 2.98095799e+03 2.20264658e+04 1.62754791e+05 1.20260428e+06\n",
      " 8.88611052e+06 6.56599691e+07]\n"
     ]
    }
   ],
   "source": [
    "# Log spaced array\n",
    "log = np.logspace(0, 18, 10, base = np.e) \n",
    "print(log)"
   ]
  },
  {
   "cell_type": "markdown",
   "metadata": {},
   "source": [
    "Here is a summary of the most commonly used array creation functions:"
   ]
  },
  {
   "cell_type": "markdown",
   "metadata": {},
   "source": [
    "#### **The most commonly used array creation functions**\n",
    ">  * `np.empty(shape[, dtype, order])` - Create an empty array with no values.\n",
    ">  * `np.ones(shape[, dtype, order])` - Create an array with 1s.\n",
    ">  * `np.zeros(shape[, dtype, order])` - Create an array with 0s.\n",
    ">  * `np.full(shape, fill_value[, dtype, order])` - Create an array with `fill_value`s.\n",
    "  \n",
    "The following are very similar to the above functions, but instead of passing `shape`, you pass another array, and it will create a new array with the same shape.\n",
    ">  * `np.empty_like(a[, dtype, order, subok])`\n",
    ">  * `np.ones_like(a[, dtype, order, subok])`\n",
    ">  * `np.zeros_like(a[, dtype, order, subok])`\n",
    ">  * `full_like(a, fill_value[, dtype, order, subok])`\n",
    "\n",
    "The following functions are for creating ranges\n",
    ">  * `np.arange([start,] stop[, step,][, dtype])` - Evenly spaced values\n",
    ">  * `np.linspace(start, stop[, num, endpoint, ...])` - Evenly spaced values, however you can specify `start`\n",
    ">  * `np.logspace(start, stop[, num, endpoint, base, ...])` - Spaced evenly on log scale\n",
    ">  * `np.geomspace(start, stop[, num, endpoint, dtype])` - Spaced evenly on log scale (geometric progression)"
   ]
  },
  {
   "cell_type": "markdown",
   "metadata": {},
   "source": [
    "### 1.4 Indexing\n",
    "Indexing for `NumPy` arrays is very similar to Python lists, except that we have to index for more than one dimension.\n",
    "\n",
    "Let's start with the array `b` that we defined above."
   ]
  },
  {
   "cell_type": "code",
   "execution_count": 26,
   "metadata": {},
   "outputs": [
    {
     "name": "stdout",
     "output_type": "stream",
     "text": [
      "[[9 7 0 1]\n",
      " [6 3 2 0]]\n",
      "(2, 4)\n"
     ]
    }
   ],
   "source": [
    "b = np.array([[9,7,0,1], [6,3,2,0]])\n",
    "print(b)\n",
    "print(b.shape)"
   ]
  },
  {
   "cell_type": "markdown",
   "metadata": {},
   "source": [
    "Suppose we want to extract the element with the value \"2\". How do we do this? First, let's consider the shape of `b`. What element contains \"2\" within the 1st dimension (the dimension with 4 elements)? Remember that we count from zero in python. What element contains \"2\" within the 2nd dimension (the dimension with 2 elements)? "
   ]
  },
  {
   "cell_type": "markdown",
   "metadata": {
    "tags": [
     "hide-input"
    ]
   },
   "source": [
    "If you guessed the 2nd and 1st elements, you are correct!\n",
    "\n",
    "There are two ways to index arrays. The first is to use consecutive `[]` as shown below."
   ]
  },
  {
   "cell_type": "code",
   "execution_count": 62,
   "metadata": {},
   "outputs": [
    {
     "data": {
      "text/plain": [
       "2"
      ]
     },
     "execution_count": 62,
     "metadata": {},
     "output_type": "execute_result"
    }
   ],
   "source": [
    "# indexing - method 1\n",
    "b[1][2]"
   ]
  },
  {
   "cell_type": "markdown",
   "metadata": {},
   "source": [
    "Or you can use the syntax below (this is the syntax that I normally use)."
   ]
  },
  {
   "cell_type": "code",
   "execution_count": 63,
   "metadata": {},
   "outputs": [
    {
     "data": {
      "text/plain": [
       "2"
      ]
     },
     "execution_count": 63,
     "metadata": {},
     "output_type": "execute_result"
    }
   ],
   "source": [
    "# indexing - method 2\n",
    "b[1,2]"
   ]
  },
  {
   "cell_type": "markdown",
   "metadata": {},
   "source": [
    "## 2. Array Operations\n",
    "\n",
    "Being able to perform element-wise operations is what makes `NumPy` so powerful. Let's take a look by first defining two arrays."
   ]
  },
  {
   "cell_type": "code",
   "execution_count": 27,
   "metadata": {},
   "outputs": [],
   "source": [
    "# First define two arrays\n",
    "k = np.array([1.0, 2.0, 3.0])\n",
    "j = np.array([2.0, 2.0, 2.0])"
   ]
  },
  {
   "cell_type": "markdown",
   "metadata": {},
   "source": [
    "`NumPy` allows for basic arithmetic operations such as addition and multiplication. What do you get if you add `k` and `j` element-wise?"
   ]
  },
  {
   "cell_type": "code",
   "execution_count": 28,
   "metadata": {
    "tags": [
     "hide-output"
    ]
   },
   "outputs": [
    {
     "name": "stdout",
     "output_type": "stream",
     "text": [
      "[3. 4. 5.]\n"
     ]
    }
   ],
   "source": [
    "c = k + j\n",
    "print(c)"
   ]
  },
  {
   "cell_type": "markdown",
   "metadata": {},
   "source": [
    "What do you get if you multiply `k` and `j` element-wise?"
   ]
  },
  {
   "cell_type": "code",
   "execution_count": 67,
   "metadata": {
    "tags": [
     "hide-output"
    ]
   },
   "outputs": [
    {
     "name": "stdout",
     "output_type": "stream",
     "text": [
      "[2. 4. 6.]\n"
     ]
    }
   ],
   "source": [
    "c = k * j\n",
    "print(c)"
   ]
  },
  {
   "cell_type": "markdown",
   "metadata": {},
   "source": [
    "Notice the result of `k * j` might be weird if you are familiar with matrices.\n",
    "\n",
    "**Array != Matrix**\n",
    "\n",
    "Array operations are element-wise, which means `k * j` simply multiplies the elements with the same index. In most cases, you would operate on two arrays with the same shape (`k` and `j` have the same shape). You can, however, operate on two different shaped arrays under certain conditions. This brings us to **broadcasting**."
   ]
  },
  {
   "cell_type": "markdown",
   "metadata": {},
   "source": [
    "### 2.1 Broadcasting\n",
    "Broadcasting allows us to operate on differently shaped arrays, with some constraints. Broadcasting means that array operations occur within C instead of Python, which is much faster.\n",
    "\n",
    "\n",
    "![](https://www.evernote.com/l/Aq2wONNsbSFJ_Z7_JyPS3U5T3QQ3ULrYrVgB/image.png)\n",
    "\n",
    "![](https://www.evernote.com/l/Aq3NWqDzrodAxJe2An6QGBOmGDDWtJFA-5MB/image.png)\n",
    "\n",
    "![](https://www.evernote.com/l/Aq18pMOG1uxFEbV_6c6dJ5Ie3RIu5-JkEuoB/image.png)\n",
    "\n",
    "![](https://www.evernote.com/l/Aq1F-XUu2GtKVLD1aBhxoDniSfD43QHbyooB/image.png)\n",
    "\n",
    "> If you wish to learn more, follow this link: http://scipy.github.io/old-wiki/pages/EricsBroadcastingDoc"
   ]
  },
  {
   "cell_type": "code",
   "execution_count": null,
   "metadata": {},
   "outputs": [],
   "source": []
  }
 ],
 "metadata": {
  "celltoolbar": "Tags",
  "kernelspec": {
   "display_name": "Python 3",
   "language": "python",
   "name": "python3"
  },
  "language_info": {
   "codemirror_mode": {
    "name": "ipython",
    "version": 3
   },
   "file_extension": ".py",
   "mimetype": "text/x-python",
   "name": "python",
   "nbconvert_exporter": "python",
   "pygments_lexer": "ipython3",
   "version": "3.8.3"
  }
 },
 "nbformat": 4,
 "nbformat_minor": 2
}
