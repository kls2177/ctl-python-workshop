{
 "cells": [
  {
   "cell_type": "markdown",
   "metadata": {},
   "source": [
    "# Module 2: Intermediate Python\n",
    "\n",
    "In the last module we covered:\n",
    "\n",
    "* using the Python interpreter, open by typing python\n",
    "* working in Jupyter Notebooks\n",
    "* arithmetic operations: + - * / ** // %.\n",
    "* conditionals: if(expression), elif, else\n",
    "* loops: while, for\n",
    "* lists, tuples and dictionaries\n",
    "* functions\n",
    "\n",
    "In Module 2, we will explore using the [NumPy](https://numpy.org/) and [Matplotlib](https://matplotlib.org/) packages.\n",
    "\n",
    "NumPy is a Python package that provides more functionality than the vanilla Python. Matplotlib is a Python package for plotting and data visualization. These two packages are the foundation of scientific computing in Python.\n",
    "\n",
    "So, why do we need NumPy? Let's take a look at an example in the video below. Once you have watched the video, you can launch your own blank jupyter notebook and follow along.\n",
    "\n",
    "### Let's get started!"
   ]
  },
  {
   "cell_type": "code",
   "execution_count": 2,
   "metadata": {
    "tags": [
     "remove-input"
    ]
   },
   "outputs": [
    {
     "data": {
      "text/html": [
       "<iframe width=\"560\" height=\"315\" src=\"https://play.library.utoronto.ca/embed/07158a48e178876ba88a21a10a574fff\" frameborder=\"0\" allowfullscreen />"
      ],
      "text/plain": [
       "<IPython.core.display.HTML object>"
      ]
     },
     "execution_count": 2,
     "metadata": {},
     "output_type": "execute_result"
    }
   ],
   "source": [
    "from IPython.display import HTML\n",
    "\n",
    " \n",
    "HTML('<iframe width=\"560\" height=\"315\" src=\"https://play.library.utoronto.ca/embed/07158a48e178876ba88a21a10a574fff\" frameborder=\"0\" allowfullscreen />')"
   ]
  },
  {
   "cell_type": "code",
   "execution_count": null,
   "metadata": {},
   "outputs": [],
   "source": []
  }
 ],
 "metadata": {
  "celltoolbar": "Tags",
  "kernelspec": {
   "display_name": "Python 3",
   "language": "python",
   "name": "python3"
  },
  "language_info": {
   "codemirror_mode": {
    "name": "ipython",
    "version": 3
   },
   "file_extension": ".py",
   "mimetype": "text/x-python",
   "name": "python",
   "nbconvert_exporter": "python",
   "pygments_lexer": "ipython3",
   "version": "3.6.8"
  }
 },
 "nbformat": 4,
 "nbformat_minor": 4
}
