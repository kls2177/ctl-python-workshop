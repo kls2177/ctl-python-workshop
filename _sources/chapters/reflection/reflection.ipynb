{
 "cells": [
  {
   "cell_type": "markdown",
   "metadata": {},
   "source": [
    "# Short Course Submission and Reflection\n",
    "\n",
    "I hope that this short course has provided you with a useful overview of programming in Python. If you are interested in learning more, there are many, *many* online Python courses available and many are free (just google \"python course\" or \"python tutorial\"). One great educational resource to try that is specific to climate, earth and environmental science is [Project Pythia](https://projectpythia.org/).\n",
    "\n",
    "To receive **EES1100H short course credit** you must complete the request form in the short course homepage, which includes uploading results from activities at the end of Exercises: Part III and a reflection on how familiarizing yourself with Python may help you in your graduate research and/or future career.\n",
    "\n",
    "<font size= “5”>**Happy coding!**</font>"
   ]
  },
  {
   "cell_type": "code",
   "execution_count": null,
   "metadata": {},
   "outputs": [],
   "source": []
  }
 ],
 "metadata": {
  "kernelspec": {
   "display_name": "Python 3 (ipykernel)",
   "language": "python",
   "name": "python3"
  },
  "language_info": {
   "codemirror_mode": {
    "name": "ipython",
    "version": 3
   },
   "file_extension": ".py",
   "mimetype": "text/x-python",
   "name": "python",
   "nbconvert_exporter": "python",
   "pygments_lexer": "ipython3",
   "version": "3.9.12"
  }
 },
 "nbformat": 4,
 "nbformat_minor": 4
}
