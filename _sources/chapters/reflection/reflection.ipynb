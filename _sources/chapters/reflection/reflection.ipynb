{
 "cells": [
  {
   "cell_type": "markdown",
   "metadata": {},
   "source": [
    "# Asynchronous Workshop Component Submission and Reflection\n",
    "\n",
    "I hope that this workshop has provided you with a useful overview of programming in Python. If you are interested in learning more, there are many, *many* online Python courses available and many are free (just google \"python course\" or \"python tutorial\"). One great educational resource to try that is specific to climate, earth and environmental science is [Project Pythia](https://projectpythia.org/).\n",
    "\n",
    "To receive a **GPD credit** for this workshop, you must complete the below submission and reflection. Please attempt the activities at the end of Exercises: Part III and reflect on how familiarizing yourself with Python may help you in your graduate research and/or future career. \n",
    "\n",
    "Click on the following [link](https://forms.office.com/Pages/ResponsePage.aspx?id=JsKqeAMvTUuQN7RtVsVSENOwIvPyRLFGtPdhxywZibFUOU5ETTA5VkNESFVZQlBYMzJWQTU5MVNKTy4u) to complete this brief reflection.\n",
    "\n",
    "## In-person Workshop Session\n",
    "\n",
    "During the in-person session, we will review the asynchronous exercises and work through a new exercise together.\n",
    "\n",
    "<font size= “5”>**Happy coding!**</font>"
   ]
  },
  {
   "cell_type": "code",
   "execution_count": null,
   "metadata": {},
   "outputs": [],
   "source": []
  }
 ],
 "metadata": {
  "kernelspec": {
   "display_name": "Python 3",
   "language": "python",
   "name": "python3"
  },
  "language_info": {
   "codemirror_mode": {
    "name": "ipython",
    "version": 3
   },
   "file_extension": ".py",
   "mimetype": "text/x-python",
   "name": "python",
   "nbconvert_exporter": "python",
   "pygments_lexer": "ipython3",
   "version": "3.8.3"
  }
 },
 "nbformat": 4,
 "nbformat_minor": 4
}
