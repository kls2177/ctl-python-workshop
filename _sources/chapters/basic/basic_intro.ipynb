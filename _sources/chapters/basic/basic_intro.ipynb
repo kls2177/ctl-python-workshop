{
 "cells": [
  {
   "cell_type": "markdown",
   "metadata": {},
   "source": [
    "# Module 1: Basic Python\n",
    "\n",
    "> “The computer is incredibly fast, accurate, and\n",
    "stupid. Man is incredibly slow, inaccurate, and\n",
    "brilliant.”\n",
    "–Leo Cherne\n",
    "\n",
    "In this module, we will cover the fundamentals of python. Much of this content can be found in the [official python tutorial](https://docs.python.org/3/tutorial/), Copyright 2001-2019, Python Software Foundation. It is used here under the terms of the [Python License](https://docs.python.org/3/license.html).\n",
    "\n",
    "## Interacting Python\n",
    "\n",
    "There are three main ways to use python:\n",
    "\n",
    "- running a python file from the command line, e.g. python myscript.py\n",
    "- through an interactive console (python interpreter)\n",
    "- in an interactive notebook (e.g. Jupyter)\n",
    "\n",
    "In this course, we will mostly be interacting with python via jupyter notebooks.\n",
    "\n",
    "The following video demonstrates the three different modes of interaction. Once you have watched the video, you can launch your own blank jupyter notebook and follow along.\n",
    "\n",
    "### Let's get started!"
   ]
  },
  {
   "cell_type": "code",
   "execution_count": 2,
   "metadata": {
    "tags": [
     "remove-input"
    ]
   },
   "outputs": [
    {
     "data": {
      "text/html": [
       "<iframe width=\"560\" height=\"315\" src=\"https://play.library.utoronto.ca/embed/b66495e1323c728b31158b5df5615490\" frameborder=\"0\" allowfullscreen />"
      ],
      "text/plain": [
       "<IPython.core.display.HTML object>"
      ]
     },
     "execution_count": 2,
     "metadata": {},
     "output_type": "execute_result"
    }
   ],
   "source": [
    "from IPython.display import HTML\n",
    " \n",
    "HTML('<iframe width=\"560\" height=\"315\" src=\"https://play.library.utoronto.ca/embed/b66495e1323c728b31158b5df5615490\" frameborder=\"0\" allowfullscreen />')"
   ]
  },
  {
   "cell_type": "code",
   "execution_count": null,
   "metadata": {},
   "outputs": [],
   "source": []
  }
 ],
 "metadata": {
  "celltoolbar": "Tags",
  "kernelspec": {
   "display_name": "Python 3",
   "language": "python",
   "name": "python3"
  },
  "language_info": {
   "codemirror_mode": {
    "name": "ipython",
    "version": 3
   },
   "file_extension": ".py",
   "mimetype": "text/x-python",
   "name": "python",
   "nbconvert_exporter": "python",
   "pygments_lexer": "ipython3",
   "version": "3.6.8"
  }
 },
 "nbformat": 4,
 "nbformat_minor": 4
}
