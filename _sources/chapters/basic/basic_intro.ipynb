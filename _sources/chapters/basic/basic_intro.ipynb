{
 "cells": [
  {
   "cell_type": "markdown",
   "metadata": {},
   "source": [
    "# Module 1: Basic Python\n",
    "\n",
    "> <font color=blue>**“The computer is incredibly fast, accurate, and stupid. Man is incredibly slow, inaccurate, and brilliant.”**\\\n",
    "> –Leo Cherne</font>\n",
    "\n",
    "In this module, we will cover the fundamentals of Python. Much of this content can be found in the [official Python tutorial](https://docs.python.org/3/tutorial/), Copyright 2001-2022, Python Software Foundation. It is used here under the terms of the [Python License](https://docs.python.org/3/license.html).\n",
    "\n",
    "## Interacting Python\n",
    "\n",
    "There are three main ways to use Python:\n",
    "\n",
    "- running a python file (.py) from the command line, e.g. `> python myscript.py`\n",
    "- through an interactive console (Python interpreter)\n",
    "- in an interactive notebook (e.g. Jupyter)\n",
    "\n",
    "In this course, we will mostly be interacting with Python via jupyter notebooks.\n",
    "\n",
    "The following video demonstrates the three different modes of interaction. "
   ]
  },
  {
   "cell_type": "code",
   "execution_count": 1,
   "metadata": {
    "tags": [
     "remove-input"
    ]
   },
   "outputs": [
    {
     "data": {
      "text/html": [
       "\n",
       "        <iframe\n",
       "            width=\"560\"\n",
       "            height=\"315\"\n",
       "            src=\"https://play.library.utoronto.ca/embed/b66495e1323c728b31158b5df5615490\"\n",
       "            frameborder=\"0\"\n",
       "            allowfullscreen\n",
       "        ></iframe>\n",
       "        "
      ],
      "text/plain": [
       "<IPython.lib.display.IFrame at 0x7f9067c3b9d0>"
      ]
     },
     "execution_count": 1,
     "metadata": {},
     "output_type": "execute_result"
    }
   ],
   "source": [
    "from IPython.display import IFrame\n",
    "IFrame(\"https://play.library.utoronto.ca/embed/b66495e1323c728b31158b5df5615490\", width=\"560\",height=\"315\")"
   ]
  },
  {
   "cell_type": "markdown",
   "metadata": {},
   "source": [
    "Once you have watched the video, you can launch your own blank jupyter notebook and follow along.\n",
    "\n",
    "### Let's get started!"
   ]
  },
  {
   "cell_type": "code",
   "execution_count": null,
   "metadata": {},
   "outputs": [],
   "source": []
  }
 ],
 "metadata": {
  "celltoolbar": "Tags",
  "kernelspec": {
   "display_name": "Python 3",
   "language": "python",
   "name": "python3"
  },
  "language_info": {
   "codemirror_mode": {
    "name": "ipython",
    "version": 3
   },
   "file_extension": ".py",
   "mimetype": "text/x-python",
   "name": "python",
   "nbconvert_exporter": "python",
   "pygments_lexer": "ipython3",
   "version": "3.8.3"
  }
 },
 "nbformat": 4,
 "nbformat_minor": 4
}
