{
 "cells": [
  {
   "cell_type": "markdown",
   "metadata": {},
   "source": [
    "## Exercises"
   ]
  },
  {
   "cell_type": "code",
   "execution_count": 1,
   "metadata": {},
   "outputs": [],
   "source": [
    "import ipywidgets as widgets\n",
    "import sys\n",
    "from IPython.display import display\n",
    "from IPython.display import clear_output\n",
    "\n",
    "def create_multipleChoice_widget(description, options, correct_answer):\n",
    "    if correct_answer not in options:\n",
    "        options.append(correct_answer)\n",
    "    \n",
    "    correct_answer_index = options.index(correct_answer)\n",
    "    \n",
    "    radio_options = [(words, i) for i, words in enumerate(options)]\n",
    "    alternative = widgets.RadioButtons(\n",
    "        options = radio_options,\n",
    "        description = '',\n",
    "        disabled = False\n",
    "    )\n",
    "    \n",
    "    description_out = widgets.Output()\n",
    "    with description_out:\n",
    "        print(description)\n",
    "        \n",
    "    feedback_out = widgets.Output()\n",
    "\n",
    "    def check_selection(b):\n",
    "        a = int(alternative.value)\n",
    "        if a==correct_answer_index:\n",
    "            s = '\\x1b[1;30;42m' + \"Correct\" + '\\x1b[0m' +\"\\n\" #green color\n",
    "        else:\n",
    "            s = '\\x1b[1;30;41m' + \"Incorrect\" + '\\x1b[0m' +\"\\n\" #red color\n",
    "        with feedback_out:\n",
    "            clear_output()\n",
    "            print(s)\n",
    "        return\n",
    "    \n",
    "    check = widgets.Button(description=\"submit\")\n",
    "    check.on_click(check_selection)\n",
    "    \n",
    "    \n",
    "    return widgets.VBox([description_out, alternative, check, feedback_out])\n",
    "    \n",
    "\n",
    "Q1 = create_multipleChoice_widget('How do you print \"hi\" to screen in Python 3?',['print(hi)','print \"hi\"','print(\"hi\")','print hi'],'print(\"hi\")')\n",
    "Q2 = create_multipleChoice_widget('lalalalal',['cat','dog','mouse'],'dog')\n",
    "Q3 = create_multipleChoice_widget('jajajajaj',['blue','white','red'],'white')"
   ]
  },
  {
   "cell_type": "code",
   "execution_count": 2,
   "metadata": {},
   "outputs": [
    {
     "data": {
      "application/vnd.jupyter.widget-view+json": {
       "model_id": "9826dc47fd0b4754a25c40029e338d9a",
       "version_major": 2,
       "version_minor": 0
      },
      "text/plain": [
       "VBox(children=(Output(outputs=({'output_type': 'stream', 'text': 'How do you print \"hi\" to screen in Python 3?…"
      ]
     },
     "metadata": {},
     "output_type": "display_data"
    },
    {
     "data": {
      "application/vnd.jupyter.widget-view+json": {
       "model_id": "b33aedf19f79422da536955b20133310",
       "version_major": 2,
       "version_minor": 0
      },
      "text/plain": [
       "VBox(children=(Output(outputs=({'output_type': 'stream', 'text': 'lalalalal\\n', 'name': 'stdout'},)), RadioBut…"
      ]
     },
     "metadata": {},
     "output_type": "display_data"
    },
    {
     "data": {
      "application/vnd.jupyter.widget-view+json": {
       "model_id": "4e81605da30547f48c593e45d2c55faa",
       "version_major": 2,
       "version_minor": 0
      },
      "text/plain": [
       "VBox(children=(Output(outputs=({'output_type': 'stream', 'text': 'jajajajaj\\n', 'name': 'stdout'},)), RadioBut…"
      ]
     },
     "metadata": {},
     "output_type": "display_data"
    }
   ],
   "source": [
    "display(Q1)\n",
    "display(Q2)\n",
    "display(Q3)"
   ]
  },
  {
   "cell_type": "code",
   "execution_count": null,
   "metadata": {},
   "outputs": [],
   "source": []
  },
  {
   "cell_type": "code",
   "execution_count": null,
   "metadata": {},
   "outputs": [],
   "source": []
  }
 ],
 "metadata": {
  "celltoolbar": "Tags",
  "kernelspec": {
   "display_name": "Python 3",
   "language": "python",
   "name": "python3"
  },
  "language_info": {
   "codemirror_mode": {
    "name": "ipython",
    "version": 3
   },
   "file_extension": ".py",
   "mimetype": "text/x-python",
   "name": "python",
   "nbconvert_exporter": "python",
   "pygments_lexer": "ipython3",
   "version": "3.6.8"
  }
 },
 "nbformat": 4,
 "nbformat_minor": 4
}
