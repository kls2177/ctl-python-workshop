{
 "cells": [
  {
   "cell_type": "markdown",
   "metadata": {},
   "source": [
    "# Reflection\n",
    "\n",
    "I hope that this workshop has provided you with a useful overview of programming in Python. If you are interested in learning more, there are many, *many* online Python courses available and many are free (just google \"python course\").\n",
    "\n",
    "As the final part of this workshop, I ask that you reflect on how familiarizing yourself with Python may help you in your graduate research or future career. \n",
    "\n",
    "Click on the following [link](https://forms.gle/2SuiVBcxdYtCuA3X7) to complete this brief reflection.\n",
    "\n",
    "### Happy coding!"
   ]
  },
  {
   "cell_type": "code",
   "execution_count": null,
   "metadata": {},
   "outputs": [],
   "source": []
  }
 ],
 "metadata": {
  "kernelspec": {
   "display_name": "Python 3",
   "language": "python",
   "name": "python3"
  },
  "language_info": {
   "codemirror_mode": {
    "name": "ipython",
    "version": 3
   },
   "file_extension": ".py",
   "mimetype": "text/x-python",
   "name": "python",
   "nbconvert_exporter": "python",
   "pygments_lexer": "ipython3",
   "version": "3.6.8"
  }
 },
 "nbformat": 4,
 "nbformat_minor": 4
}
